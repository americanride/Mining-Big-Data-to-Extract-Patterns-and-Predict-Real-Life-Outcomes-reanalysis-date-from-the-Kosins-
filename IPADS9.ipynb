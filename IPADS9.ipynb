{
  "nbformat": 4,
  "nbformat_minor": 0,
  "metadata": {
    "colab": {
      "name": "IPADS9.ipynb",
      "provenance": [],
      "collapsed_sections": []
    },
    "kernelspec": {
      "name": "python3",
      "display_name": "Python 3"
    }
  },
  "cells": [
    {
      "cell_type": "code",
      "metadata": {
        "id": "HHH4Bd2yMwOb",
        "colab_type": "code",
        "outputId": "4b1ae759-8da5-4b0e-80bf-da05732bf365",
        "colab": {
          "base_uri": "https://localhost:8080/",
          "height": 122
        }
      },
      "source": [
        "\n",
        "import pandas as pd\n",
        "import numpy as np\n",
        "from google.colab import drive\n",
        "drive.mount('/content/drive')"
      ],
      "execution_count": 1,
      "outputs": [
        {
          "output_type": "stream",
          "text": [
            "Go to this URL in a browser: https://accounts.google.com/o/oauth2/auth?client_id=947318989803-6bn6qk8qdgf4n4g3pfee6491hc0brc4i.apps.googleusercontent.com&redirect_uri=urn%3aietf%3awg%3aoauth%3a2.0%3aoob&response_type=code&scope=email%20https%3a%2f%2fwww.googleapis.com%2fauth%2fdocs.test%20https%3a%2f%2fwww.googleapis.com%2fauth%2fdrive%20https%3a%2f%2fwww.googleapis.com%2fauth%2fdrive.photos.readonly%20https%3a%2f%2fwww.googleapis.com%2fauth%2fpeopleapi.readonly\n",
            "\n",
            "Enter your authorization code:\n",
            "··········\n",
            "Mounted at /content/drive\n"
          ],
          "name": "stdout"
        }
      ]
    },
    {
      "cell_type": "code",
      "metadata": {
        "id": "siEbXbgyTNtn",
        "colab_type": "code",
        "outputId": "abe9b585-9483-4198-8ca9-c1b9745c9dea",
        "colab": {
          "base_uri": "https://localhost:8080/",
          "height": 204
        }
      },
      "source": [
        "likes = pd.read_csv('/content/drive/My Drive/likes.csv')\n",
        "likes.head()"
      ],
      "execution_count": 0,
      "outputs": [
        {
          "output_type": "execute_result",
          "data": {
            "text/html": [
              "<div>\n",
              "<style scoped>\n",
              "    .dataframe tbody tr th:only-of-type {\n",
              "        vertical-align: middle;\n",
              "    }\n",
              "\n",
              "    .dataframe tbody tr th {\n",
              "        vertical-align: top;\n",
              "    }\n",
              "\n",
              "    .dataframe thead th {\n",
              "        text-align: right;\n",
              "    }\n",
              "</style>\n",
              "<table border=\"1\" class=\"dataframe\">\n",
              "  <thead>\n",
              "    <tr style=\"text-align: right;\">\n",
              "      <th></th>\n",
              "      <th>likeid</th>\n",
              "      <th>name</th>\n",
              "    </tr>\n",
              "  </thead>\n",
              "  <tbody>\n",
              "    <tr>\n",
              "      <th>0</th>\n",
              "      <td>3c1636c878e6eb2acfd00c6b61086e38</td>\n",
              "      <td>REIGN by Paul Gibson</td>\n",
              "    </tr>\n",
              "    <tr>\n",
              "      <th>1</th>\n",
              "      <td>feca46ddb8ef04f86172ace0cb7e004c</td>\n",
              "      <td>Cupcake Wishes &amp; Birthday Dreams</td>\n",
              "    </tr>\n",
              "    <tr>\n",
              "      <th>2</th>\n",
              "      <td>b65f46d64c688fe98bdbcf93a76a71fc</td>\n",
              "      <td>Yo también me rei de la caída de otro jejeje</td>\n",
              "    </tr>\n",
              "    <tr>\n",
              "      <th>3</th>\n",
              "      <td>9c5c8bb82d2cd46fbd7582f944fe370e</td>\n",
              "      <td>Abraham Joshua Heschel Day School- Alumni Network</td>\n",
              "    </tr>\n",
              "    <tr>\n",
              "      <th>4</th>\n",
              "      <td>2d82fa84ad79b085dc516dde154327a2</td>\n",
              "      <td>Kennesaw Farmer's Market</td>\n",
              "    </tr>\n",
              "  </tbody>\n",
              "</table>\n",
              "</div>"
            ],
            "text/plain": [
              "                             likeid                                               name\n",
              "0  3c1636c878e6eb2acfd00c6b61086e38                               REIGN by Paul Gibson\n",
              "1  feca46ddb8ef04f86172ace0cb7e004c                   Cupcake Wishes & Birthday Dreams\n",
              "2  b65f46d64c688fe98bdbcf93a76a71fc       Yo también me rei de la caída de otro jejeje\n",
              "3  9c5c8bb82d2cd46fbd7582f944fe370e  Abraham Joshua Heschel Day School- Alumni Network\n",
              "4  2d82fa84ad79b085dc516dde154327a2                           Kennesaw Farmer's Market"
            ]
          },
          "metadata": {
            "tags": []
          },
          "execution_count": 7
        }
      ]
    },
    {
      "cell_type": "code",
      "metadata": {
        "id": "IK3TW8iJTWM3",
        "colab_type": "code",
        "outputId": "a16b8c41-7ae2-41c8-9ec2-0e2963fafa5d",
        "colab": {
          "base_uri": "https://localhost:8080/",
          "height": 204
        }
      },
      "source": [
        "users = pd.read_csv('/content/drive/My Drive/users.csv')\n",
        "users.head()"
      ],
      "execution_count": 0,
      "outputs": [
        {
          "output_type": "execute_result",
          "data": {
            "text/html": [
              "<div>\n",
              "<style scoped>\n",
              "    .dataframe tbody tr th:only-of-type {\n",
              "        vertical-align: middle;\n",
              "    }\n",
              "\n",
              "    .dataframe tbody tr th {\n",
              "        vertical-align: top;\n",
              "    }\n",
              "\n",
              "    .dataframe thead th {\n",
              "        text-align: right;\n",
              "    }\n",
              "</style>\n",
              "<table border=\"1\" class=\"dataframe\">\n",
              "  <thead>\n",
              "    <tr style=\"text-align: right;\">\n",
              "      <th></th>\n",
              "      <th>userid</th>\n",
              "      <th>gender</th>\n",
              "      <th>age</th>\n",
              "      <th>political</th>\n",
              "      <th>ope</th>\n",
              "      <th>con</th>\n",
              "      <th>ext</th>\n",
              "      <th>agr</th>\n",
              "      <th>neu</th>\n",
              "    </tr>\n",
              "  </thead>\n",
              "  <tbody>\n",
              "    <tr>\n",
              "      <th>0</th>\n",
              "      <td>54f34605aebd63f7680e37ffd299af79</td>\n",
              "      <td>0</td>\n",
              "      <td>33</td>\n",
              "      <td>0.0</td>\n",
              "      <td>1.26</td>\n",
              "      <td>1.65</td>\n",
              "      <td>1.17</td>\n",
              "      <td>-1.76</td>\n",
              "      <td>0.61</td>\n",
              "    </tr>\n",
              "    <tr>\n",
              "      <th>1</th>\n",
              "      <td>86399f8c44ba54224b2e60177ca89fa9</td>\n",
              "      <td>1</td>\n",
              "      <td>35</td>\n",
              "      <td>0.0</td>\n",
              "      <td>1.07</td>\n",
              "      <td>0.17</td>\n",
              "      <td>-0.14</td>\n",
              "      <td>1.49</td>\n",
              "      <td>0.30</td>\n",
              "    </tr>\n",
              "    <tr>\n",
              "      <th>2</th>\n",
              "      <td>84fab50f3c60d1fdc83aa91b5e584a78</td>\n",
              "      <td>1</td>\n",
              "      <td>36</td>\n",
              "      <td>0.0</td>\n",
              "      <td>0.89</td>\n",
              "      <td>1.28</td>\n",
              "      <td>0.86</td>\n",
              "      <td>1.07</td>\n",
              "      <td>0.99</td>\n",
              "    </tr>\n",
              "    <tr>\n",
              "      <th>3</th>\n",
              "      <td>f3b8fdaccce12ef6352bfad4d6052fe9</td>\n",
              "      <td>0</td>\n",
              "      <td>39</td>\n",
              "      <td>NaN</td>\n",
              "      <td>0.33</td>\n",
              "      <td>-1.01</td>\n",
              "      <td>-0.33</td>\n",
              "      <td>-0.68</td>\n",
              "      <td>0.92</td>\n",
              "    </tr>\n",
              "    <tr>\n",
              "      <th>4</th>\n",
              "      <td>8b06ea5e9cb87c61da387995450607f7</td>\n",
              "      <td>0</td>\n",
              "      <td>31</td>\n",
              "      <td>NaN</td>\n",
              "      <td>0.15</td>\n",
              "      <td>0.47</td>\n",
              "      <td>1.17</td>\n",
              "      <td>-1.01</td>\n",
              "      <td>-0.32</td>\n",
              "    </tr>\n",
              "  </tbody>\n",
              "</table>\n",
              "</div>"
            ],
            "text/plain": [
              "                             userid  gender  age  ...   ext   agr   neu\n",
              "0  54f34605aebd63f7680e37ffd299af79       0   33  ...  1.17 -1.76  0.61\n",
              "1  86399f8c44ba54224b2e60177ca89fa9       1   35  ... -0.14  1.49  0.30\n",
              "2  84fab50f3c60d1fdc83aa91b5e584a78       1   36  ...  0.86  1.07  0.99\n",
              "3  f3b8fdaccce12ef6352bfad4d6052fe9       0   39  ... -0.33 -0.68  0.92\n",
              "4  8b06ea5e9cb87c61da387995450607f7       0   31  ...  1.17 -1.01 -0.32\n",
              "\n",
              "[5 rows x 9 columns]"
            ]
          },
          "metadata": {
            "tags": []
          },
          "execution_count": 8
        }
      ]
    },
    {
      "cell_type": "code",
      "metadata": {
        "id": "ARWON7pHkrfj",
        "colab_type": "code",
        "outputId": "93bbe159-78cb-4669-b8cc-90aa47ff42d2",
        "colab": {
          "base_uri": "https://localhost:8080/",
          "height": 187
        }
      },
      "source": [
        "users.isna().sum()"
      ],
      "execution_count": 0,
      "outputs": [
        {
          "output_type": "execute_result",
          "data": {
            "text/plain": [
              "userid           0\n",
              "gender           0\n",
              "age              0\n",
              "political    82920\n",
              "ope              0\n",
              "con              0\n",
              "ext              0\n",
              "agr              0\n",
              "neu              0\n",
              "dtype: int64"
            ]
          },
          "metadata": {
            "tags": []
          },
          "execution_count": 15
        }
      ]
    },
    {
      "cell_type": "code",
      "metadata": {
        "id": "cjsssloGhSaB",
        "colab_type": "code",
        "outputId": "83ff334f-2127-4322-9c1a-52b0eddae1f4",
        "colab": {
          "base_uri": "https://localhost:8080/",
          "height": 204
        }
      },
      "source": [
        "users_likes = pd.read_csv('/content/drive/My Drive/users-likes.csv')\n",
        "users_likes.head()"
      ],
      "execution_count": 0,
      "outputs": [
        {
          "output_type": "execute_result",
          "data": {
            "text/html": [
              "<div>\n",
              "<style scoped>\n",
              "    .dataframe tbody tr th:only-of-type {\n",
              "        vertical-align: middle;\n",
              "    }\n",
              "\n",
              "    .dataframe tbody tr th {\n",
              "        vertical-align: top;\n",
              "    }\n",
              "\n",
              "    .dataframe thead th {\n",
              "        text-align: right;\n",
              "    }\n",
              "</style>\n",
              "<table border=\"1\" class=\"dataframe\">\n",
              "  <thead>\n",
              "    <tr style=\"text-align: right;\">\n",
              "      <th></th>\n",
              "      <th>userid</th>\n",
              "      <th>likeid</th>\n",
              "    </tr>\n",
              "  </thead>\n",
              "  <tbody>\n",
              "    <tr>\n",
              "      <th>0</th>\n",
              "      <td>71bc7c0901488aec6d30f0add257e7c5</td>\n",
              "      <td>3c1636c878e6eb2acfd00c6b61086e38</td>\n",
              "    </tr>\n",
              "    <tr>\n",
              "      <th>1</th>\n",
              "      <td>978ab8e90c4d6ad1a48ef5c973b62f4d</td>\n",
              "      <td>feca46ddb8ef04f86172ace0cb7e004c</td>\n",
              "    </tr>\n",
              "    <tr>\n",
              "      <th>2</th>\n",
              "      <td>85123b0e358907725cf19a2cb0ec3983</td>\n",
              "      <td>b65f46d64c688fe98bdbcf93a76a71fc</td>\n",
              "    </tr>\n",
              "    <tr>\n",
              "      <th>3</th>\n",
              "      <td>ce110562b3e2f7e5cad3775b32d9caa5</td>\n",
              "      <td>b65f46d64c688fe98bdbcf93a76a71fc</td>\n",
              "    </tr>\n",
              "    <tr>\n",
              "      <th>4</th>\n",
              "      <td>8188d20745471273fa69ba44a5b28473</td>\n",
              "      <td>b65f46d64c688fe98bdbcf93a76a71fc</td>\n",
              "    </tr>\n",
              "  </tbody>\n",
              "</table>\n",
              "</div>"
            ],
            "text/plain": [
              "                             userid                            likeid\n",
              "0  71bc7c0901488aec6d30f0add257e7c5  3c1636c878e6eb2acfd00c6b61086e38\n",
              "1  978ab8e90c4d6ad1a48ef5c973b62f4d  feca46ddb8ef04f86172ace0cb7e004c\n",
              "2  85123b0e358907725cf19a2cb0ec3983  b65f46d64c688fe98bdbcf93a76a71fc\n",
              "3  ce110562b3e2f7e5cad3775b32d9caa5  b65f46d64c688fe98bdbcf93a76a71fc\n",
              "4  8188d20745471273fa69ba44a5b28473  b65f46d64c688fe98bdbcf93a76a71fc"
            ]
          },
          "metadata": {
            "tags": []
          },
          "execution_count": 9
        }
      ]
    },
    {
      "cell_type": "code",
      "metadata": {
        "id": "mPIu72SEkIE0",
        "colab_type": "code",
        "outputId": "c9f1f7c9-5d69-48bc-9cb5-71a611724ba4",
        "colab": {
          "base_uri": "https://localhost:8080/",
          "height": 136
        }
      },
      "source": [
        "users_likes.info()"
      ],
      "execution_count": 0,
      "outputs": [
        {
          "output_type": "stream",
          "text": [
            "<class 'pandas.core.frame.DataFrame'>\n",
            "RangeIndex: 10612326 entries, 0 to 10612325\n",
            "Data columns (total 2 columns):\n",
            "userid    object\n",
            "likeid    object\n",
            "dtypes: object(2)\n",
            "memory usage: 161.9+ MB\n"
          ],
          "name": "stdout"
        }
      ]
    },
    {
      "cell_type": "code",
      "metadata": {
        "id": "aMTrp8G6kevI",
        "colab_type": "code",
        "outputId": "69cb7193-de54-4c0b-d4a9-721ac924bf77",
        "colab": {
          "base_uri": "https://localhost:8080/",
          "height": 68
        }
      },
      "source": [
        "users_likes.isna().sum()"
      ],
      "execution_count": 0,
      "outputs": [
        {
          "output_type": "execute_result",
          "data": {
            "text/plain": [
              "userid    0\n",
              "likeid    0\n",
              "dtype: int64"
            ]
          },
          "metadata": {
            "tags": []
          },
          "execution_count": 11
        }
      ]
    },
    {
      "cell_type": "code",
      "metadata": {
        "id": "Y_nBOl_BV1mK",
        "colab_type": "code",
        "outputId": "19741545-0cd5-419d-eac2-61904dab6e42",
        "colab": {
          "base_uri": "https://localhost:8080/",
          "height": 419
        }
      },
      "source": [
        "userslikes_users_index = users_likes.reset_index().merge(users.reset_index(), on=['userid'])\n",
        "userslikes_users_index = userslikes_users_index.rename(columns = {'index_y':'user_index'})\n",
        "userslikes_users_index"
      ],
      "execution_count": 0,
      "outputs": [
        {
          "output_type": "execute_result",
          "data": {
            "text/html": [
              "<div>\n",
              "<style scoped>\n",
              "    .dataframe tbody tr th:only-of-type {\n",
              "        vertical-align: middle;\n",
              "    }\n",
              "\n",
              "    .dataframe tbody tr th {\n",
              "        vertical-align: top;\n",
              "    }\n",
              "\n",
              "    .dataframe thead th {\n",
              "        text-align: right;\n",
              "    }\n",
              "</style>\n",
              "<table border=\"1\" class=\"dataframe\">\n",
              "  <thead>\n",
              "    <tr style=\"text-align: right;\">\n",
              "      <th></th>\n",
              "      <th>index_x</th>\n",
              "      <th>userid</th>\n",
              "      <th>likeid</th>\n",
              "      <th>user_index</th>\n",
              "      <th>gender</th>\n",
              "      <th>age</th>\n",
              "      <th>political</th>\n",
              "      <th>ope</th>\n",
              "      <th>con</th>\n",
              "      <th>ext</th>\n",
              "      <th>agr</th>\n",
              "      <th>neu</th>\n",
              "    </tr>\n",
              "  </thead>\n",
              "  <tbody>\n",
              "    <tr>\n",
              "      <th>0</th>\n",
              "      <td>0</td>\n",
              "      <td>71bc7c0901488aec6d30f0add257e7c5</td>\n",
              "      <td>3c1636c878e6eb2acfd00c6b61086e38</td>\n",
              "      <td>59352</td>\n",
              "      <td>1</td>\n",
              "      <td>37</td>\n",
              "      <td>NaN</td>\n",
              "      <td>0.61</td>\n",
              "      <td>1.36</td>\n",
              "      <td>-0.21</td>\n",
              "      <td>1.57</td>\n",
              "      <td>0.74</td>\n",
              "    </tr>\n",
              "    <tr>\n",
              "      <th>1</th>\n",
              "      <td>40317</td>\n",
              "      <td>71bc7c0901488aec6d30f0add257e7c5</td>\n",
              "      <td>0b587fcf3266aae62fc0b22c43ff275e</td>\n",
              "      <td>59352</td>\n",
              "      <td>1</td>\n",
              "      <td>37</td>\n",
              "      <td>NaN</td>\n",
              "      <td>0.61</td>\n",
              "      <td>1.36</td>\n",
              "      <td>-0.21</td>\n",
              "      <td>1.57</td>\n",
              "      <td>0.74</td>\n",
              "    </tr>\n",
              "    <tr>\n",
              "      <th>2</th>\n",
              "      <td>57390</td>\n",
              "      <td>71bc7c0901488aec6d30f0add257e7c5</td>\n",
              "      <td>afa59bf63dc4650d6cb3b74f3a060fb6</td>\n",
              "      <td>59352</td>\n",
              "      <td>1</td>\n",
              "      <td>37</td>\n",
              "      <td>NaN</td>\n",
              "      <td>0.61</td>\n",
              "      <td>1.36</td>\n",
              "      <td>-0.21</td>\n",
              "      <td>1.57</td>\n",
              "      <td>0.74</td>\n",
              "    </tr>\n",
              "    <tr>\n",
              "      <th>3</th>\n",
              "      <td>287816</td>\n",
              "      <td>71bc7c0901488aec6d30f0add257e7c5</td>\n",
              "      <td>90a867d19b9c5dc70463a6d052607ac9</td>\n",
              "      <td>59352</td>\n",
              "      <td>1</td>\n",
              "      <td>37</td>\n",
              "      <td>NaN</td>\n",
              "      <td>0.61</td>\n",
              "      <td>1.36</td>\n",
              "      <td>-0.21</td>\n",
              "      <td>1.57</td>\n",
              "      <td>0.74</td>\n",
              "    </tr>\n",
              "    <tr>\n",
              "      <th>4</th>\n",
              "      <td>369314</td>\n",
              "      <td>71bc7c0901488aec6d30f0add257e7c5</td>\n",
              "      <td>a3f27088743730f735233420a4e8c809</td>\n",
              "      <td>59352</td>\n",
              "      <td>1</td>\n",
              "      <td>37</td>\n",
              "      <td>NaN</td>\n",
              "      <td>0.61</td>\n",
              "      <td>1.36</td>\n",
              "      <td>-0.21</td>\n",
              "      <td>1.57</td>\n",
              "      <td>0.74</td>\n",
              "    </tr>\n",
              "    <tr>\n",
              "      <th>...</th>\n",
              "      <td>...</td>\n",
              "      <td>...</td>\n",
              "      <td>...</td>\n",
              "      <td>...</td>\n",
              "      <td>...</td>\n",
              "      <td>...</td>\n",
              "      <td>...</td>\n",
              "      <td>...</td>\n",
              "      <td>...</td>\n",
              "      <td>...</td>\n",
              "      <td>...</td>\n",
              "      <td>...</td>\n",
              "    </tr>\n",
              "    <tr>\n",
              "      <th>10612321</th>\n",
              "      <td>10608560</td>\n",
              "      <td>2ec2c5e0bd515db7f272f85ac164fe29</td>\n",
              "      <td>576e5cdcee265f221c7ca38ff4b338e6</td>\n",
              "      <td>42201</td>\n",
              "      <td>1</td>\n",
              "      <td>25</td>\n",
              "      <td>NaN</td>\n",
              "      <td>-0.50</td>\n",
              "      <td>-1.16</td>\n",
              "      <td>1.48</td>\n",
              "      <td>-1.51</td>\n",
              "      <td>1.36</td>\n",
              "    </tr>\n",
              "    <tr>\n",
              "      <th>10612322</th>\n",
              "      <td>10608748</td>\n",
              "      <td>bc5b792973fbc7c664c1135300f745f4</td>\n",
              "      <td>576e5cdcee265f221c7ca38ff4b338e6</td>\n",
              "      <td>50347</td>\n",
              "      <td>1</td>\n",
              "      <td>30</td>\n",
              "      <td>NaN</td>\n",
              "      <td>0.70</td>\n",
              "      <td>0.17</td>\n",
              "      <td>0.86</td>\n",
              "      <td>0.66</td>\n",
              "      <td>-0.51</td>\n",
              "    </tr>\n",
              "    <tr>\n",
              "      <th>10612323</th>\n",
              "      <td>10610104</td>\n",
              "      <td>1c915367d3b4eade5fb5b3c920108baf</td>\n",
              "      <td>576e5cdcee265f221c7ca38ff4b338e6</td>\n",
              "      <td>98585</td>\n",
              "      <td>1</td>\n",
              "      <td>24</td>\n",
              "      <td>NaN</td>\n",
              "      <td>-0.50</td>\n",
              "      <td>0.10</td>\n",
              "      <td>0.17</td>\n",
              "      <td>-0.26</td>\n",
              "      <td>-0.10</td>\n",
              "    </tr>\n",
              "    <tr>\n",
              "      <th>10612324</th>\n",
              "      <td>10610885</td>\n",
              "      <td>967408598b12000e6cdf629c7abed35c</td>\n",
              "      <td>54cf335330ef784f8479915a46c18d33</td>\n",
              "      <td>27427</td>\n",
              "      <td>0</td>\n",
              "      <td>23</td>\n",
              "      <td>1.0</td>\n",
              "      <td>-0.22</td>\n",
              "      <td>0.84</td>\n",
              "      <td>1.23</td>\n",
              "      <td>-0.34</td>\n",
              "      <td>-1.38</td>\n",
              "    </tr>\n",
              "    <tr>\n",
              "      <th>10612325</th>\n",
              "      <td>10612207</td>\n",
              "      <td>66ab26cd2fb27dcc858e7dd3d61ec5ef</td>\n",
              "      <td>cdfbade4a1ccdebae32e32a02c8c105a</td>\n",
              "      <td>63843</td>\n",
              "      <td>0</td>\n",
              "      <td>22</td>\n",
              "      <td>NaN</td>\n",
              "      <td>0.24</td>\n",
              "      <td>0.02</td>\n",
              "      <td>-0.02</td>\n",
              "      <td>0.74</td>\n",
              "      <td>-0.57</td>\n",
              "    </tr>\n",
              "  </tbody>\n",
              "</table>\n",
              "<p>10612326 rows × 12 columns</p>\n",
              "</div>"
            ],
            "text/plain": [
              "           index_x                            userid  ...   agr   neu\n",
              "0                0  71bc7c0901488aec6d30f0add257e7c5  ...  1.57  0.74\n",
              "1            40317  71bc7c0901488aec6d30f0add257e7c5  ...  1.57  0.74\n",
              "2            57390  71bc7c0901488aec6d30f0add257e7c5  ...  1.57  0.74\n",
              "3           287816  71bc7c0901488aec6d30f0add257e7c5  ...  1.57  0.74\n",
              "4           369314  71bc7c0901488aec6d30f0add257e7c5  ...  1.57  0.74\n",
              "...            ...                               ...  ...   ...   ...\n",
              "10612321  10608560  2ec2c5e0bd515db7f272f85ac164fe29  ... -1.51  1.36\n",
              "10612322  10608748  bc5b792973fbc7c664c1135300f745f4  ...  0.66 -0.51\n",
              "10612323  10610104  1c915367d3b4eade5fb5b3c920108baf  ... -0.26 -0.10\n",
              "10612324  10610885  967408598b12000e6cdf629c7abed35c  ... -0.34 -1.38\n",
              "10612325  10612207  66ab26cd2fb27dcc858e7dd3d61ec5ef  ...  0.74 -0.57\n",
              "\n",
              "[10612326 rows x 12 columns]"
            ]
          },
          "metadata": {
            "tags": []
          },
          "execution_count": 12
        }
      ]
    },
    {
      "cell_type": "code",
      "metadata": {
        "id": "TrqMuqekh_Gu",
        "colab_type": "code",
        "outputId": "eee167c6-b6a0-41ab-cafc-8cbd86febb43",
        "colab": {
          "base_uri": "https://localhost:8080/",
          "height": 419
        }
      },
      "source": [
        "userslikes_likes_index = users_likes.reset_index().merge(likes.reset_index(), on =['likeid'])\n",
        "userslikes_likes_index = userslikes_likes_index.rename(columns = {'index_y':'like_index'})\n",
        "userslikes_likes_index\n"
      ],
      "execution_count": 0,
      "outputs": [
        {
          "output_type": "execute_result",
          "data": {
            "text/html": [
              "<div>\n",
              "<style scoped>\n",
              "    .dataframe tbody tr th:only-of-type {\n",
              "        vertical-align: middle;\n",
              "    }\n",
              "\n",
              "    .dataframe tbody tr th {\n",
              "        vertical-align: top;\n",
              "    }\n",
              "\n",
              "    .dataframe thead th {\n",
              "        text-align: right;\n",
              "    }\n",
              "</style>\n",
              "<table border=\"1\" class=\"dataframe\">\n",
              "  <thead>\n",
              "    <tr style=\"text-align: right;\">\n",
              "      <th></th>\n",
              "      <th>index_x</th>\n",
              "      <th>userid</th>\n",
              "      <th>likeid</th>\n",
              "      <th>like_index</th>\n",
              "      <th>name</th>\n",
              "    </tr>\n",
              "  </thead>\n",
              "  <tbody>\n",
              "    <tr>\n",
              "      <th>0</th>\n",
              "      <td>0</td>\n",
              "      <td>71bc7c0901488aec6d30f0add257e7c5</td>\n",
              "      <td>3c1636c878e6eb2acfd00c6b61086e38</td>\n",
              "      <td>0</td>\n",
              "      <td>REIGN by Paul Gibson</td>\n",
              "    </tr>\n",
              "    <tr>\n",
              "      <th>1</th>\n",
              "      <td>1</td>\n",
              "      <td>978ab8e90c4d6ad1a48ef5c973b62f4d</td>\n",
              "      <td>feca46ddb8ef04f86172ace0cb7e004c</td>\n",
              "      <td>1</td>\n",
              "      <td>Cupcake Wishes &amp; Birthday Dreams</td>\n",
              "    </tr>\n",
              "    <tr>\n",
              "      <th>2</th>\n",
              "      <td>2</td>\n",
              "      <td>85123b0e358907725cf19a2cb0ec3983</td>\n",
              "      <td>b65f46d64c688fe98bdbcf93a76a71fc</td>\n",
              "      <td>2</td>\n",
              "      <td>Yo también me rei de la caída de otro jejeje</td>\n",
              "    </tr>\n",
              "    <tr>\n",
              "      <th>3</th>\n",
              "      <td>3</td>\n",
              "      <td>ce110562b3e2f7e5cad3775b32d9caa5</td>\n",
              "      <td>b65f46d64c688fe98bdbcf93a76a71fc</td>\n",
              "      <td>2</td>\n",
              "      <td>Yo también me rei de la caída de otro jejeje</td>\n",
              "    </tr>\n",
              "    <tr>\n",
              "      <th>4</th>\n",
              "      <td>4</td>\n",
              "      <td>8188d20745471273fa69ba44a5b28473</td>\n",
              "      <td>b65f46d64c688fe98bdbcf93a76a71fc</td>\n",
              "      <td>2</td>\n",
              "      <td>Yo también me rei de la caída de otro jejeje</td>\n",
              "    </tr>\n",
              "    <tr>\n",
              "      <th>...</th>\n",
              "      <td>...</td>\n",
              "      <td>...</td>\n",
              "      <td>...</td>\n",
              "      <td>...</td>\n",
              "      <td>...</td>\n",
              "    </tr>\n",
              "    <tr>\n",
              "      <th>10612321</th>\n",
              "      <td>10612321</td>\n",
              "      <td>264088faf4884d77e025a4ceda148b73</td>\n",
              "      <td>20458d0f521d4bd3a0903cf2113a43f3</td>\n",
              "      <td>1580283</td>\n",
              "      <td>Mucca Pazza</td>\n",
              "    </tr>\n",
              "    <tr>\n",
              "      <th>10612322</th>\n",
              "      <td>10612322</td>\n",
              "      <td>d498e43d700dbb0006b733aa912e49c7</td>\n",
              "      <td>20458d0f521d4bd3a0903cf2113a43f3</td>\n",
              "      <td>1580283</td>\n",
              "      <td>Mucca Pazza</td>\n",
              "    </tr>\n",
              "    <tr>\n",
              "      <th>10612323</th>\n",
              "      <td>10612323</td>\n",
              "      <td>76ac7130db7f6065c969402226b7053b</td>\n",
              "      <td>20458d0f521d4bd3a0903cf2113a43f3</td>\n",
              "      <td>1580283</td>\n",
              "      <td>Mucca Pazza</td>\n",
              "    </tr>\n",
              "    <tr>\n",
              "      <th>10612324</th>\n",
              "      <td>10612324</td>\n",
              "      <td>05dcd62425918392dc5d42f7550cbd9e</td>\n",
              "      <td>20458d0f521d4bd3a0903cf2113a43f3</td>\n",
              "      <td>1580283</td>\n",
              "      <td>Mucca Pazza</td>\n",
              "    </tr>\n",
              "    <tr>\n",
              "      <th>10612325</th>\n",
              "      <td>10612325</td>\n",
              "      <td>54817b9e5746a560f43dee41c5d459b8</td>\n",
              "      <td>20458d0f521d4bd3a0903cf2113a43f3</td>\n",
              "      <td>1580283</td>\n",
              "      <td>Mucca Pazza</td>\n",
              "    </tr>\n",
              "  </tbody>\n",
              "</table>\n",
              "<p>10612326 rows × 5 columns</p>\n",
              "</div>"
            ],
            "text/plain": [
              "           index_x  ...                                          name\n",
              "0                0  ...                          REIGN by Paul Gibson\n",
              "1                1  ...              Cupcake Wishes & Birthday Dreams\n",
              "2                2  ...  Yo también me rei de la caída de otro jejeje\n",
              "3                3  ...  Yo también me rei de la caída de otro jejeje\n",
              "4                4  ...  Yo también me rei de la caída de otro jejeje\n",
              "...            ...  ...                                           ...\n",
              "10612321  10612321  ...                                   Mucca Pazza\n",
              "10612322  10612322  ...                                   Mucca Pazza\n",
              "10612323  10612323  ...                                   Mucca Pazza\n",
              "10612324  10612324  ...                                   Mucca Pazza\n",
              "10612325  10612325  ...                                   Mucca Pazza\n",
              "\n",
              "[10612326 rows x 5 columns]"
            ]
          },
          "metadata": {
            "tags": []
          },
          "execution_count": 13
        }
      ]
    },
    {
      "cell_type": "code",
      "metadata": {
        "id": "DYJxf_qJ69JE",
        "colab_type": "code",
        "colab": {}
      },
      "source": [
        "userslikes_users_index = userslikes_users_index.drop(['index_x'], axis=1)\n",
        "userslikes_likes_index = userslikes_likes_index.drop(['index_x'], axis=1)"
      ],
      "execution_count": 0,
      "outputs": []
    },
    {
      "cell_type": "code",
      "metadata": {
        "id": "OZ0jc3EN7u9Y",
        "colab_type": "code",
        "outputId": "7ef6149f-3e2c-4dc0-a832-9930a2f30e3a",
        "colab": {
          "base_uri": "https://localhost:8080/",
          "height": 609
        }
      },
      "source": [
        "userslikes_merged = userslikes_users_index.reset_index().merge(userslikes_likes_index.reset_index(), on=['userid','likeid'])\n",
        "userslikes_merged"
      ],
      "execution_count": 0,
      "outputs": [
        {
          "output_type": "execute_result",
          "data": {
            "text/html": [
              "<div>\n",
              "<style scoped>\n",
              "    .dataframe tbody tr th:only-of-type {\n",
              "        vertical-align: middle;\n",
              "    }\n",
              "\n",
              "    .dataframe tbody tr th {\n",
              "        vertical-align: top;\n",
              "    }\n",
              "\n",
              "    .dataframe thead th {\n",
              "        text-align: right;\n",
              "    }\n",
              "</style>\n",
              "<table border=\"1\" class=\"dataframe\">\n",
              "  <thead>\n",
              "    <tr style=\"text-align: right;\">\n",
              "      <th></th>\n",
              "      <th>index_x</th>\n",
              "      <th>userid</th>\n",
              "      <th>likeid</th>\n",
              "      <th>user_index</th>\n",
              "      <th>gender</th>\n",
              "      <th>age</th>\n",
              "      <th>political</th>\n",
              "      <th>ope</th>\n",
              "      <th>con</th>\n",
              "      <th>ext</th>\n",
              "      <th>agr</th>\n",
              "      <th>neu</th>\n",
              "      <th>index_y</th>\n",
              "      <th>like_index</th>\n",
              "      <th>name</th>\n",
              "    </tr>\n",
              "  </thead>\n",
              "  <tbody>\n",
              "    <tr>\n",
              "      <th>0</th>\n",
              "      <td>0</td>\n",
              "      <td>71bc7c0901488aec6d30f0add257e7c5</td>\n",
              "      <td>3c1636c878e6eb2acfd00c6b61086e38</td>\n",
              "      <td>59352</td>\n",
              "      <td>1</td>\n",
              "      <td>37</td>\n",
              "      <td>NaN</td>\n",
              "      <td>0.61</td>\n",
              "      <td>1.36</td>\n",
              "      <td>-0.21</td>\n",
              "      <td>1.57</td>\n",
              "      <td>0.74</td>\n",
              "      <td>0</td>\n",
              "      <td>0</td>\n",
              "      <td>REIGN by Paul Gibson</td>\n",
              "    </tr>\n",
              "    <tr>\n",
              "      <th>1</th>\n",
              "      <td>1</td>\n",
              "      <td>71bc7c0901488aec6d30f0add257e7c5</td>\n",
              "      <td>0b587fcf3266aae62fc0b22c43ff275e</td>\n",
              "      <td>59352</td>\n",
              "      <td>1</td>\n",
              "      <td>37</td>\n",
              "      <td>NaN</td>\n",
              "      <td>0.61</td>\n",
              "      <td>1.36</td>\n",
              "      <td>-0.21</td>\n",
              "      <td>1.57</td>\n",
              "      <td>0.74</td>\n",
              "      <td>40317</td>\n",
              "      <td>5777</td>\n",
              "      <td>1 Million People Saying Shame on Arizona</td>\n",
              "    </tr>\n",
              "    <tr>\n",
              "      <th>2</th>\n",
              "      <td>2</td>\n",
              "      <td>71bc7c0901488aec6d30f0add257e7c5</td>\n",
              "      <td>afa59bf63dc4650d6cb3b74f3a060fb6</td>\n",
              "      <td>59352</td>\n",
              "      <td>1</td>\n",
              "      <td>37</td>\n",
              "      <td>NaN</td>\n",
              "      <td>0.61</td>\n",
              "      <td>1.36</td>\n",
              "      <td>-0.21</td>\n",
              "      <td>1.57</td>\n",
              "      <td>0.74</td>\n",
              "      <td>57390</td>\n",
              "      <td>8316</td>\n",
              "      <td>Kathy Griffin</td>\n",
              "    </tr>\n",
              "    <tr>\n",
              "      <th>3</th>\n",
              "      <td>3</td>\n",
              "      <td>71bc7c0901488aec6d30f0add257e7c5</td>\n",
              "      <td>90a867d19b9c5dc70463a6d052607ac9</td>\n",
              "      <td>59352</td>\n",
              "      <td>1</td>\n",
              "      <td>37</td>\n",
              "      <td>NaN</td>\n",
              "      <td>0.61</td>\n",
              "      <td>1.36</td>\n",
              "      <td>-0.21</td>\n",
              "      <td>1.57</td>\n",
              "      <td>0.74</td>\n",
              "      <td>287816</td>\n",
              "      <td>41110</td>\n",
              "      <td>Sufjan Stevens</td>\n",
              "    </tr>\n",
              "    <tr>\n",
              "      <th>4</th>\n",
              "      <td>4</td>\n",
              "      <td>71bc7c0901488aec6d30f0add257e7c5</td>\n",
              "      <td>a3f27088743730f735233420a4e8c809</td>\n",
              "      <td>59352</td>\n",
              "      <td>1</td>\n",
              "      <td>37</td>\n",
              "      <td>NaN</td>\n",
              "      <td>0.61</td>\n",
              "      <td>1.36</td>\n",
              "      <td>-0.21</td>\n",
              "      <td>1.57</td>\n",
              "      <td>0.74</td>\n",
              "      <td>369314</td>\n",
              "      <td>50908</td>\n",
              "      <td>Van Morrison</td>\n",
              "    </tr>\n",
              "    <tr>\n",
              "      <th>...</th>\n",
              "      <td>...</td>\n",
              "      <td>...</td>\n",
              "      <td>...</td>\n",
              "      <td>...</td>\n",
              "      <td>...</td>\n",
              "      <td>...</td>\n",
              "      <td>...</td>\n",
              "      <td>...</td>\n",
              "      <td>...</td>\n",
              "      <td>...</td>\n",
              "      <td>...</td>\n",
              "      <td>...</td>\n",
              "      <td>...</td>\n",
              "      <td>...</td>\n",
              "      <td>...</td>\n",
              "    </tr>\n",
              "    <tr>\n",
              "      <th>10612321</th>\n",
              "      <td>10612321</td>\n",
              "      <td>2ec2c5e0bd515db7f272f85ac164fe29</td>\n",
              "      <td>576e5cdcee265f221c7ca38ff4b338e6</td>\n",
              "      <td>42201</td>\n",
              "      <td>1</td>\n",
              "      <td>25</td>\n",
              "      <td>NaN</td>\n",
              "      <td>-0.50</td>\n",
              "      <td>-1.16</td>\n",
              "      <td>1.48</td>\n",
              "      <td>-1.51</td>\n",
              "      <td>1.36</td>\n",
              "      <td>10608560</td>\n",
              "      <td>1580090</td>\n",
              "      <td>Supernatural</td>\n",
              "    </tr>\n",
              "    <tr>\n",
              "      <th>10612322</th>\n",
              "      <td>10612322</td>\n",
              "      <td>bc5b792973fbc7c664c1135300f745f4</td>\n",
              "      <td>576e5cdcee265f221c7ca38ff4b338e6</td>\n",
              "      <td>50347</td>\n",
              "      <td>1</td>\n",
              "      <td>30</td>\n",
              "      <td>NaN</td>\n",
              "      <td>0.70</td>\n",
              "      <td>0.17</td>\n",
              "      <td>0.86</td>\n",
              "      <td>0.66</td>\n",
              "      <td>-0.51</td>\n",
              "      <td>10608748</td>\n",
              "      <td>1580090</td>\n",
              "      <td>Supernatural</td>\n",
              "    </tr>\n",
              "    <tr>\n",
              "      <th>10612323</th>\n",
              "      <td>10612323</td>\n",
              "      <td>1c915367d3b4eade5fb5b3c920108baf</td>\n",
              "      <td>576e5cdcee265f221c7ca38ff4b338e6</td>\n",
              "      <td>98585</td>\n",
              "      <td>1</td>\n",
              "      <td>24</td>\n",
              "      <td>NaN</td>\n",
              "      <td>-0.50</td>\n",
              "      <td>0.10</td>\n",
              "      <td>0.17</td>\n",
              "      <td>-0.26</td>\n",
              "      <td>-0.10</td>\n",
              "      <td>10610104</td>\n",
              "      <td>1580090</td>\n",
              "      <td>Supernatural</td>\n",
              "    </tr>\n",
              "    <tr>\n",
              "      <th>10612324</th>\n",
              "      <td>10612324</td>\n",
              "      <td>967408598b12000e6cdf629c7abed35c</td>\n",
              "      <td>54cf335330ef784f8479915a46c18d33</td>\n",
              "      <td>27427</td>\n",
              "      <td>0</td>\n",
              "      <td>23</td>\n",
              "      <td>1.0</td>\n",
              "      <td>-0.22</td>\n",
              "      <td>0.84</td>\n",
              "      <td>1.23</td>\n",
              "      <td>-0.34</td>\n",
              "      <td>-1.38</td>\n",
              "      <td>10610885</td>\n",
              "      <td>1580140</td>\n",
              "      <td>Old Cartoons</td>\n",
              "    </tr>\n",
              "    <tr>\n",
              "      <th>10612325</th>\n",
              "      <td>10612325</td>\n",
              "      <td>66ab26cd2fb27dcc858e7dd3d61ec5ef</td>\n",
              "      <td>cdfbade4a1ccdebae32e32a02c8c105a</td>\n",
              "      <td>63843</td>\n",
              "      <td>0</td>\n",
              "      <td>22</td>\n",
              "      <td>NaN</td>\n",
              "      <td>0.24</td>\n",
              "      <td>0.02</td>\n",
              "      <td>-0.02</td>\n",
              "      <td>0.74</td>\n",
              "      <td>-0.57</td>\n",
              "      <td>10612207</td>\n",
              "      <td>1580253</td>\n",
              "      <td>I love to make people laugh</td>\n",
              "    </tr>\n",
              "  </tbody>\n",
              "</table>\n",
              "<p>10612326 rows × 15 columns</p>\n",
              "</div>"
            ],
            "text/plain": [
              "           index_x  ...                                      name\n",
              "0                0  ...                      REIGN by Paul Gibson\n",
              "1                1  ...  1 Million People Saying Shame on Arizona\n",
              "2                2  ...                             Kathy Griffin\n",
              "3                3  ...                            Sufjan Stevens\n",
              "4                4  ...                              Van Morrison\n",
              "...            ...  ...                                       ...\n",
              "10612321  10612321  ...                              Supernatural\n",
              "10612322  10612322  ...                              Supernatural\n",
              "10612323  10612323  ...                              Supernatural\n",
              "10612324  10612324  ...                              Old Cartoons\n",
              "10612325  10612325  ...               I love to make people laugh\n",
              "\n",
              "[10612326 rows x 15 columns]"
            ]
          },
          "metadata": {
            "tags": []
          },
          "execution_count": 15
        }
      ]
    },
    {
      "cell_type": "code",
      "metadata": {
        "id": "RQ1XRSfV8dpp",
        "colab_type": "code",
        "outputId": "a735e584-3f17-4850-8de4-ea6e16984f73",
        "colab": {
          "base_uri": "https://localhost:8080/",
          "height": 419
        }
      },
      "source": [
        "userslikes_merged_new = userslikes_merged.drop(['index_x','userid','likeid','gender','age','political','ope','con','ext','agr','neu','index_y','name'], axis=1)\n",
        "userslikes_merged_new"
      ],
      "execution_count": 0,
      "outputs": [
        {
          "output_type": "execute_result",
          "data": {
            "text/html": [
              "<div>\n",
              "<style scoped>\n",
              "    .dataframe tbody tr th:only-of-type {\n",
              "        vertical-align: middle;\n",
              "    }\n",
              "\n",
              "    .dataframe tbody tr th {\n",
              "        vertical-align: top;\n",
              "    }\n",
              "\n",
              "    .dataframe thead th {\n",
              "        text-align: right;\n",
              "    }\n",
              "</style>\n",
              "<table border=\"1\" class=\"dataframe\">\n",
              "  <thead>\n",
              "    <tr style=\"text-align: right;\">\n",
              "      <th></th>\n",
              "      <th>user_index</th>\n",
              "      <th>like_index</th>\n",
              "    </tr>\n",
              "  </thead>\n",
              "  <tbody>\n",
              "    <tr>\n",
              "      <th>0</th>\n",
              "      <td>59352</td>\n",
              "      <td>0</td>\n",
              "    </tr>\n",
              "    <tr>\n",
              "      <th>1</th>\n",
              "      <td>59352</td>\n",
              "      <td>5777</td>\n",
              "    </tr>\n",
              "    <tr>\n",
              "      <th>2</th>\n",
              "      <td>59352</td>\n",
              "      <td>8316</td>\n",
              "    </tr>\n",
              "    <tr>\n",
              "      <th>3</th>\n",
              "      <td>59352</td>\n",
              "      <td>41110</td>\n",
              "    </tr>\n",
              "    <tr>\n",
              "      <th>4</th>\n",
              "      <td>59352</td>\n",
              "      <td>50908</td>\n",
              "    </tr>\n",
              "    <tr>\n",
              "      <th>...</th>\n",
              "      <td>...</td>\n",
              "      <td>...</td>\n",
              "    </tr>\n",
              "    <tr>\n",
              "      <th>10612321</th>\n",
              "      <td>42201</td>\n",
              "      <td>1580090</td>\n",
              "    </tr>\n",
              "    <tr>\n",
              "      <th>10612322</th>\n",
              "      <td>50347</td>\n",
              "      <td>1580090</td>\n",
              "    </tr>\n",
              "    <tr>\n",
              "      <th>10612323</th>\n",
              "      <td>98585</td>\n",
              "      <td>1580090</td>\n",
              "    </tr>\n",
              "    <tr>\n",
              "      <th>10612324</th>\n",
              "      <td>27427</td>\n",
              "      <td>1580140</td>\n",
              "    </tr>\n",
              "    <tr>\n",
              "      <th>10612325</th>\n",
              "      <td>63843</td>\n",
              "      <td>1580253</td>\n",
              "    </tr>\n",
              "  </tbody>\n",
              "</table>\n",
              "<p>10612326 rows × 2 columns</p>\n",
              "</div>"
            ],
            "text/plain": [
              "          user_index  like_index\n",
              "0              59352           0\n",
              "1              59352        5777\n",
              "2              59352        8316\n",
              "3              59352       41110\n",
              "4              59352       50908\n",
              "...              ...         ...\n",
              "10612321       42201     1580090\n",
              "10612322       50347     1580090\n",
              "10612323       98585     1580090\n",
              "10612324       27427     1580140\n",
              "10612325       63843     1580253\n",
              "\n",
              "[10612326 rows x 2 columns]"
            ]
          },
          "metadata": {
            "tags": []
          },
          "execution_count": 16
        }
      ]
    },
    {
      "cell_type": "code",
      "metadata": {
        "id": "I6vFSfQo8rho",
        "colab_type": "code",
        "colab": {}
      },
      "source": [
        "from scipy.sparse import dok_matrix\n",
        "M = dok_matrix((len(users.index), len(likes.index)))\n"
      ],
      "execution_count": 0,
      "outputs": []
    },
    {
      "cell_type": "code",
      "metadata": {
        "id": "npEykIkISMXl",
        "colab_type": "code",
        "outputId": "35f70d45-f9ed-4d11-94f0-abb4b82674a1",
        "colab": {
          "base_uri": "https://localhost:8080/",
          "height": 204
        }
      },
      "source": [
        "for index, row in userslikes_merged_new.iterrows():\n",
        "  i = row['user_index']\n",
        "  j = row['like_index']\n",
        "  M[i,j] = 1\n",
        "  if index % 1000000 == 0:\n",
        "    print(index, 'of 10612326')"
      ],
      "execution_count": 0,
      "outputs": [
        {
          "output_type": "stream",
          "text": [
            "0 of 10612326\n",
            "1000000 of 10612326\n",
            "2000000 of 10612326\n",
            "3000000 of 10612326\n",
            "4000000 of 10612326\n",
            "5000000 of 10612326\n",
            "6000000 of 10612326\n",
            "7000000 of 10612326\n",
            "8000000 of 10612326\n",
            "9000000 of 10612326\n",
            "10000000 of 10612326\n"
          ],
          "name": "stdout"
        }
      ]
    },
    {
      "cell_type": "code",
      "metadata": {
        "id": "nsEkbRuo9cqB",
        "colab_type": "code",
        "colab": {}
      },
      "source": [
        "import scipy.sparse\n",
        "M = M.tobsr()\n",
        "scipy.sparse.save_npz('/content/drive/My Drive/sparse_matrix.npz', M)"
      ],
      "execution_count": 0,
      "outputs": []
    },
    {
      "cell_type": "code",
      "metadata": {
        "id": "BAisrsXiWZAH",
        "colab_type": "code",
        "colab": {}
      },
      "source": [
        "M = scipy.sparse.load_npz('/content/drive/My Drive/sparse_matrix.npz')"
      ],
      "execution_count": 0,
      "outputs": []
    },
    {
      "cell_type": "markdown",
      "metadata": {
        "id": "03rR5DPpBukA",
        "colab_type": "text"
      },
      "source": [
        "Singular Value Decomposition (SVD)"
      ]
    },
    {
      "cell_type": "code",
      "metadata": {
        "id": "pPwmiyH8B6hI",
        "colab_type": "code",
        "colab": {}
      },
      "source": [
        "from scipy.sparse import csc_matrix\n",
        "from scipy.sparse.linalg import svds, eigs\n",
        "import seaborn as sns\n",
        "import matplotlib as plt\n",
        "import numpy as np"
      ],
      "execution_count": 0,
      "outputs": []
    },
    {
      "cell_type": "code",
      "metadata": {
        "id": "lxai9jXMEmfy",
        "colab_type": "code",
        "colab": {}
      },
      "source": [
        "M = M.tocsc()\n"
      ],
      "execution_count": 0,
      "outputs": []
    },
    {
      "cell_type": "code",
      "metadata": {
        "id": "wFV2otpJFDw5",
        "colab_type": "code",
        "outputId": "55cf94ef-e805-4de0-9c75-1f19040ec394",
        "colab": {
          "base_uri": "https://localhost:8080/",
          "height": 68
        }
      },
      "source": [
        "u15, s15, v15 = svds(M, k=15)\n",
        "print('u =',u.shape)\n",
        "print('s =',s.shape)\n",
        "print('v =',v.shape)"
      ],
      "execution_count": 0,
      "outputs": [
        {
          "output_type": "stream",
          "text": [
            "u = (110728, 5)\n",
            "s = (5,)\n",
            "v = (5, 1580284)\n"
          ],
          "name": "stdout"
        }
      ]
    },
    {
      "cell_type": "code",
      "metadata": {
        "id": "fG7m21b4IWTU",
        "colab_type": "code",
        "outputId": "0abca25d-27d7-4fb9-acac-65c8b4a9c734",
        "colab": {
          "base_uri": "https://localhost:8080/",
          "height": 301
        }
      },
      "source": [
        "variance = np.round(s15**2/np.sum(s15**2), decimals=3)\n",
        "variance\n",
        " \n",
        "sns.barplot(x=list(range(1,len(variance)+1)),\n",
        "            y=variance, color=\"red\")\n",
        "plt.pyplot.xlabel('SVs', fontsize=16)\n",
        "plt.pyplot.ylabel('Percent Variance', fontsize=16)\n"
      ],
      "execution_count": 0,
      "outputs": [
        {
          "output_type": "execute_result",
          "data": {
            "text/plain": [
              "Text(0, 0.5, 'Percent Variance')"
            ]
          },
          "metadata": {
            "tags": []
          },
          "execution_count": 62
        },
        {
          "output_type": "display_data",
          "data": {
            "image/png": "[encoded data removed]",
            "text/plain": [
              "<Figure size 432x288 with 1 Axes>"
            ]
          },
          "metadata": {
            "tags": []
          }
        }
      ]
    },
    {
      "cell_type": "code",
      "metadata": {
        "id": "tT2kYNEfXzYW",
        "colab_type": "code",
        "outputId": "cb3496e7-0c92-4974-fe3c-b20d563c7d3d",
        "colab": {
          "base_uri": "https://localhost:8080/",
          "height": 68
        }
      },
      "source": [
        "u10, s10, v10 = svds(M, k=10)\n",
        "print('u =',u.shape)\n",
        "print('s =',s.shape)\n",
        "print('v =',v.shape)"
      ],
      "execution_count": 0,
      "outputs": [
        {
          "output_type": "stream",
          "text": [
            "u = (110728, 5)\n",
            "s = (5,)\n",
            "v = (5, 1580284)\n"
          ],
          "name": "stdout"
        }
      ]
    },
    {
      "cell_type": "code",
      "metadata": {
        "id": "qGJqbRZiX5Bk",
        "colab_type": "code",
        "outputId": "74005c2e-e6f4-4f36-edea-0ebfa31c5a3d",
        "colab": {
          "base_uri": "https://localhost:8080/",
          "height": 331
        }
      },
      "source": [
        "var_explained = np.round(s10**2/np.sum(s10**2), decimals=3)\n",
        "var_explained\n",
        " \n",
        "sns.barplot(x=list(range(1,len(var_explained)+1)),\n",
        "            y=var_explained, color=\"yellow\")\n",
        "plt.pyplot.xlabel('SVs', fontsize=16)\n",
        "plt.pyplot.ylabel('Percent Variance Explained', fontsize=20)\n"
      ],
      "execution_count": 0,
      "outputs": [
        {
          "output_type": "execute_result",
          "data": {
            "text/plain": [
              "Text(0, 0.5, 'Percent Variance Explained')"
            ]
          },
          "metadata": {
            "tags": []
          },
          "execution_count": 63
        },
        {
          "output_type": "display_data",
          "data": {
            "image/png": "[encoded data removed]",
            "text/plain": [
              "<Figure size 432x288 with 1 Axes>"
            ]
          },
          "metadata": {
            "tags": []
          }
        }
      ]
    },
    {
      "cell_type": "code",
      "metadata": {
        "id": "xE4fCYS1X_Fy",
        "colab_type": "code",
        "outputId": "8b8171a2-0e5c-42ea-8b5c-97df78e8a858",
        "colab": {
          "base_uri": "https://localhost:8080/",
          "height": 68
        }
      },
      "source": [
        "u5, s5, v5 = svds(M, k=5)\n",
        "print('u =',u.shape)\n",
        "print('s =',s.shape)\n",
        "print('v =',v.shape)"
      ],
      "execution_count": 0,
      "outputs": [
        {
          "output_type": "stream",
          "text": [
            "u = (110728, 5)\n",
            "s = (5,)\n",
            "v = (5, 1580284)\n"
          ],
          "name": "stdout"
        }
      ]
    },
    {
      "cell_type": "code",
      "metadata": {
        "id": "zGbi1MIOYErW",
        "colab_type": "code",
        "outputId": "fdee65e4-6173-4c95-96a7-405aa193c99a",
        "colab": {
          "base_uri": "https://localhost:8080/",
          "height": 303
        }
      },
      "source": [
        "var_explained = np.round(s5**2/np.sum(s5**2), decimals=3)\n",
        "var_explained\n",
        " \n",
        "sns.barplot(x=list(range(1,len(var_explained)+1)),\n",
        "            y=var_explained, color=\"blue\")\n",
        "plt.pyplot.xlabel('SVs', fontsize=16)\n",
        "plt.pyplot.ylabel('Percent Variance Explained', fontsize=16)\n"
      ],
      "execution_count": 0,
      "outputs": [
        {
          "output_type": "execute_result",
          "data": {
            "text/plain": [
              "Text(0, 0.5, 'Percent Variance Explained')"
            ]
          },
          "metadata": {
            "tags": []
          },
          "execution_count": 64
        },
        {
          "output_type": "display_data",
          "data": {
            "image/png": "[encoded data removed]",
            "text/plain": [
              "<Figure size 432x288 with 1 Axes>"
            ]
          },
          "metadata": {
            "tags": []
          }
        }
      ]
    },
    {
      "cell_type": "code",
      "metadata": {
        "id": "fDa8W3QEYI7K",
        "colab_type": "code",
        "outputId": "07a48ccb-f821-466b-f86c-cb96cedef7e4",
        "colab": {
          "base_uri": "https://localhost:8080/",
          "height": 238
        }
      },
      "source": [
        "u5"
      ],
      "execution_count": 0,
      "outputs": [
        {
          "output_type": "execute_result",
          "data": {
            "text/plain": [
              "array([[ 5.68278771e-05,  3.28155372e-04, -2.51713826e-04,\n",
              "        -1.26558164e-04, -4.25861730e-05],\n",
              "       [-2.61709188e-04, -6.38551417e-05, -5.01306064e-04,\n",
              "        -1.59480237e-04, -4.76597319e-05],\n",
              "       [-4.60199688e-04,  1.05033093e-03, -2.83165539e-03,\n",
              "        -8.52222681e-04, -2.48478367e-04],\n",
              "       ...,\n",
              "       [ 1.04476327e-04,  4.27481090e-04,  4.38056539e-05,\n",
              "        -1.42982475e-04, -4.15996219e-05],\n",
              "       [ 5.18737256e-04, -2.00831267e-03, -3.31102273e-03,\n",
              "        -2.03004570e-03, -8.03916553e-04],\n",
              "       [ 3.18476204e-04, -4.33602232e-04, -9.57142621e-04,\n",
              "        -4.68272894e-04, -1.69599423e-04]])"
            ]
          },
          "metadata": {
            "tags": []
          },
          "execution_count": 65
        }
      ]
    },
    {
      "cell_type": "code",
      "metadata": {
        "id": "VMh2VdACYJEF",
        "colab_type": "code",
        "outputId": "f350d78e-d66d-4b27-ef67-9128bf95bbf9",
        "colab": {
          "base_uri": "https://localhost:8080/",
          "height": 51
        }
      },
      "source": [
        "s5"
      ],
      "execution_count": 0,
      "outputs": [
        {
          "output_type": "execute_result",
          "data": {
            "text/plain": [
              "array([173.74392491, 210.66268937, 231.54010084, 400.50286362,\n",
              "       654.13573063])"
            ]
          },
          "metadata": {
            "tags": []
          },
          "execution_count": 66
        }
      ]
    },
    {
      "cell_type": "code",
      "metadata": {
        "id": "OIY88IbzYJMH",
        "colab_type": "code",
        "outputId": "e6c2772f-bfff-473d-c69b-ed9a926a67ff",
        "colab": {
          "base_uri": "https://localhost:8080/",
          "height": 187
        }
      },
      "source": [
        "v5"
      ],
      "execution_count": 0,
      "outputs": [
        {
          "output_type": "execute_result",
          "data": {
            "text/plain": [
              "array([[ 1.08196012e-05,  2.86140965e-05, -1.30554449e-04, ...,\n",
              "         8.03171577e-06, -3.28817592e-05,  8.89121815e-05],\n",
              "       [ 1.88410749e-05,  1.58370897e-04, -1.87679839e-04, ...,\n",
              "         3.19479287e-05, -1.23003804e-04,  1.85734061e-04],\n",
              "       [-5.94199316e-06,  3.20972155e-05,  1.87056579e-04, ...,\n",
              "        -2.62406651e-05,  1.11777960e-04, -1.10695678e-04],\n",
              "       [-3.31324845e-06, -2.84993312e-05, -9.88125228e-05, ...,\n",
              "        -9.07898367e-06, -4.54560846e-05, -7.49148561e-05],\n",
              "       [-7.58313008e-07, -8.29687592e-06, -7.62208799e-05, ...,\n",
              "        -7.90739137e-06, -3.39289844e-05, -1.94456427e-05]])"
            ]
          },
          "metadata": {
            "tags": []
          },
          "execution_count": 67
        }
      ]
    },
    {
      "cell_type": "code",
      "metadata": {
        "id": "OSpp85ySY-IK",
        "colab_type": "code",
        "outputId": "0e326203-1c1e-4088-c1b3-36951d9ef2ff",
        "colab": {
          "base_uri": "https://localhost:8080/",
          "height": 343
        }
      },
      "source": [
        "pip install factor-analyzer"
      ],
      "execution_count": 0,
      "outputs": [
        {
          "output_type": "stream",
          "text": [
            "Collecting factor-analyzer\n",
            "\u001b[?25l  Downloading https://files.pythonhosted.org/packages/44/b5/cbd83484ca6dd4c6562c6d66a6a3a0ecf526e79b2b575b9fb4bf5ad172dd/factor_analyzer-0.3.2.tar.gz (40kB)\n",
            "\r\u001b[K     |████████▏                       | 10kB 9.3MB/s eta 0:00:01\r\u001b[K     |████████████████▍               | 20kB 1.5MB/s eta 0:00:01\r\u001b[K     |████████████████████████▌       | 30kB 1.8MB/s eta 0:00:01\r\u001b[K     |████████████████████████████████| 40kB 1.7MB/s \n",
            "\u001b[?25hRequirement already satisfied: pandas in /usr/local/lib/python3.6/dist-packages (from factor-analyzer) (0.25.3)\n",
            "Requirement already satisfied: scipy in /usr/local/lib/python3.6/dist-packages (from factor-analyzer) (1.3.3)\n",
            "Requirement already satisfied: numpy in /usr/local/lib/python3.6/dist-packages (from factor-analyzer) (1.17.4)\n",
            "Requirement already satisfied: scikit-learn in /usr/local/lib/python3.6/dist-packages (from factor-analyzer) (0.21.3)\n",
            "Requirement already satisfied: pytz>=2017.2 in /usr/local/lib/python3.6/dist-packages (from pandas->factor-analyzer) (2018.9)\n",
            "Requirement already satisfied: python-dateutil>=2.6.1 in /usr/local/lib/python3.6/dist-packages (from pandas->factor-analyzer) (2.6.1)\n",
            "Requirement already satisfied: joblib>=0.11 in /usr/local/lib/python3.6/dist-packages (from scikit-learn->factor-analyzer) (0.14.1)\n",
            "Requirement already satisfied: six>=1.5 in /usr/local/lib/python3.6/dist-packages (from python-dateutil>=2.6.1->pandas->factor-analyzer) (1.12.0)\n",
            "Building wheels for collected packages: factor-analyzer\n",
            "  Building wheel for factor-analyzer (setup.py) ... \u001b[?25l\u001b[?25hdone\n",
            "  Created wheel for factor-analyzer: filename=factor_analyzer-0.3.2-cp36-none-any.whl size=40382 sha256=d805d4866f02fe6c90d922014904435e25534ea44bf176a21c1af2398b7e3595\n",
            "  Stored in directory: /root/.cache/pip/wheels/4a/d0/57/f1330cb9c80e82d8d05391c74c94ed61ce3f03bf6157f3d6db\n",
            "Successfully built factor-analyzer\n",
            "Installing collected packages: factor-analyzer\n",
            "Successfully installed factor-analyzer-0.3.2\n"
          ],
          "name": "stdout"
        }
      ]
    },
    {
      "cell_type": "code",
      "metadata": {
        "id": "TjPVV_4AZCfU",
        "colab_type": "code",
        "colab": {}
      },
      "source": [
        "from factor_analyzer import FactorAnalyzer, Rotator"
      ],
      "execution_count": 0,
      "outputs": []
    },
    {
      "cell_type": "code",
      "metadata": {
        "id": "kTwgRcdlZGv5",
        "colab_type": "code",
        "colab": {}
      },
      "source": [
        "#fa = FactorAnalyzer(rotation=None)\n",
        "#fa.fit(v)\n",
        "#rotator = Rotator(method='varimax')\n",
        "#v_rot = rotator.fit_transform(fa.loadings_)"
      ],
      "execution_count": 0,
      "outputs": []
    },
    {
      "cell_type": "code",
      "metadata": {
        "id": "hzhlkJELZKBo",
        "colab_type": "code",
        "colab": {}
      },
      "source": [
        "#u_rot = numpy.dot(M,v_rot)"
      ],
      "execution_count": 0,
      "outputs": []
    },
    {
      "cell_type": "markdown",
      "metadata": {
        "id": "xUa8dlNiZQaQ",
        "colab_type": "text"
      },
      "source": [
        "Latent Dirichment Allocation (LDA)"
      ]
    },
    {
      "cell_type": "code",
      "metadata": {
        "id": "R4nlXNljZZc1",
        "colab_type": "code",
        "colab": {}
      },
      "source": [
        "from sklearn.decomposition import LatentDirichletAllocation"
      ],
      "execution_count": 0,
      "outputs": []
    },
    {
      "cell_type": "code",
      "metadata": {
        "id": "S6egqPYUZdtm",
        "colab_type": "code",
        "outputId": "5c5c7811-dc42-401d-bb3b-19347eade978",
        "colab": {
          "base_uri": "https://localhost:8080/",
          "height": 136
        }
      },
      "source": [
        "LDA = LatentDirichletAllocation(n_components=5, random_state=0)\n",
        "LDA.fit(M)\n",
        "M_LDA = LDA.transform(M)\n",
        "M_LDA "
      ],
      "execution_count": 0,
      "outputs": [
        {
          "output_type": "execute_result",
          "data": {
            "text/plain": [
              "array([[0.02234673, 0.02223642, 0.0227359 , 0.02232356, 0.91035739],\n",
              "       [0.0222249 , 0.02222792, 0.02229608, 0.02224201, 0.9110091 ],\n",
              "       [0.00327907, 0.00327983, 0.00329747, 0.00328252, 0.9868611 ],\n",
              "       ...,\n",
              "       [0.01820251, 0.01818594, 0.72386459, 0.01827985, 0.22146711],\n",
              "       [0.00394203, 0.00393018, 0.00403205, 0.00399062, 0.98410512],\n",
              "       [0.0117865 , 0.01178122, 0.29427112, 0.01193474, 0.67022642]])"
            ]
          },
          "metadata": {
            "tags": []
          },
          "execution_count": 45
        }
      ]
    },
    {
      "cell_type": "markdown",
      "metadata": {
        "id": "cjf4HeC9eRsV",
        "colab_type": "text"
      },
      "source": [
        "Correlation Analysis LDA Clusters"
      ]
    },
    {
      "cell_type": "code",
      "metadata": {
        "id": "EHL9YBusXM7H",
        "colab_type": "code",
        "colab": {}
      },
      "source": [
        "user_wo_id = users.drop(['userid'], axis=1)"
      ],
      "execution_count": 0,
      "outputs": []
    },
    {
      "cell_type": "code",
      "metadata": {
        "id": "YPWtGyQ4X7Zu",
        "colab_type": "code",
        "colab": {}
      },
      "source": [
        "import scipy.stats\n",
        "\n",
        "cols = []\n",
        "for i in range(1,len(M_LDA[0])+1):\n",
        "  cols.append(str(i))\n",
        "\n",
        "M_LDA_df = pd.DataFrame(np.array(M_LDA), columns=cols)\n",
        "LDA_all_features = pd.concat([M_LDA_df, user_wo_id], axis=1)\n"
      ],
      "execution_count": 0,
      "outputs": []
    },
    {
      "cell_type": "code",
      "metadata": {
        "id": "dF3UoveLYnbb",
        "colab_type": "code",
        "outputId": "ee8049d1-d252-47a5-a34a-540117925c36",
        "colab": {
          "base_uri": "https://localhost:8080/",
          "height": 419
        }
      },
      "source": [
        "LDA_all_features"
      ],
      "execution_count": 0,
      "outputs": [
        {
          "output_type": "execute_result",
          "data": {
            "text/html": [
              "<div>\n",
              "<style scoped>\n",
              "    .dataframe tbody tr th:only-of-type {\n",
              "        vertical-align: middle;\n",
              "    }\n",
              "\n",
              "    .dataframe tbody tr th {\n",
              "        vertical-align: top;\n",
              "    }\n",
              "\n",
              "    .dataframe thead th {\n",
              "        text-align: right;\n",
              "    }\n",
              "</style>\n",
              "<table border=\"1\" class=\"dataframe\">\n",
              "  <thead>\n",
              "    <tr style=\"text-align: right;\">\n",
              "      <th></th>\n",
              "      <th>1</th>\n",
              "      <th>2</th>\n",
              "      <th>3</th>\n",
              "      <th>4</th>\n",
              "      <th>5</th>\n",
              "      <th>gender</th>\n",
              "      <th>age</th>\n",
              "      <th>political</th>\n",
              "      <th>ope</th>\n",
              "      <th>con</th>\n",
              "      <th>ext</th>\n",
              "      <th>agr</th>\n",
              "      <th>neu</th>\n",
              "    </tr>\n",
              "  </thead>\n",
              "  <tbody>\n",
              "    <tr>\n",
              "      <th>0</th>\n",
              "      <td>0.022347</td>\n",
              "      <td>0.022236</td>\n",
              "      <td>0.022736</td>\n",
              "      <td>0.022324</td>\n",
              "      <td>0.910357</td>\n",
              "      <td>0</td>\n",
              "      <td>33</td>\n",
              "      <td>0.0</td>\n",
              "      <td>1.26</td>\n",
              "      <td>1.65</td>\n",
              "      <td>1.17</td>\n",
              "      <td>-1.76</td>\n",
              "      <td>0.61</td>\n",
              "    </tr>\n",
              "    <tr>\n",
              "      <th>1</th>\n",
              "      <td>0.022225</td>\n",
              "      <td>0.022228</td>\n",
              "      <td>0.022296</td>\n",
              "      <td>0.022242</td>\n",
              "      <td>0.911009</td>\n",
              "      <td>1</td>\n",
              "      <td>35</td>\n",
              "      <td>0.0</td>\n",
              "      <td>1.07</td>\n",
              "      <td>0.17</td>\n",
              "      <td>-0.14</td>\n",
              "      <td>1.49</td>\n",
              "      <td>0.30</td>\n",
              "    </tr>\n",
              "    <tr>\n",
              "      <th>2</th>\n",
              "      <td>0.003279</td>\n",
              "      <td>0.003280</td>\n",
              "      <td>0.003297</td>\n",
              "      <td>0.003283</td>\n",
              "      <td>0.986861</td>\n",
              "      <td>1</td>\n",
              "      <td>36</td>\n",
              "      <td>0.0</td>\n",
              "      <td>0.89</td>\n",
              "      <td>1.28</td>\n",
              "      <td>0.86</td>\n",
              "      <td>1.07</td>\n",
              "      <td>0.99</td>\n",
              "    </tr>\n",
              "    <tr>\n",
              "      <th>3</th>\n",
              "      <td>0.040001</td>\n",
              "      <td>0.040071</td>\n",
              "      <td>0.040025</td>\n",
              "      <td>0.040089</td>\n",
              "      <td>0.839813</td>\n",
              "      <td>0</td>\n",
              "      <td>39</td>\n",
              "      <td>NaN</td>\n",
              "      <td>0.33</td>\n",
              "      <td>-1.01</td>\n",
              "      <td>-0.33</td>\n",
              "      <td>-0.68</td>\n",
              "      <td>0.92</td>\n",
              "    </tr>\n",
              "    <tr>\n",
              "      <th>4</th>\n",
              "      <td>0.040004</td>\n",
              "      <td>0.040024</td>\n",
              "      <td>0.040147</td>\n",
              "      <td>0.040108</td>\n",
              "      <td>0.839717</td>\n",
              "      <td>0</td>\n",
              "      <td>31</td>\n",
              "      <td>NaN</td>\n",
              "      <td>0.15</td>\n",
              "      <td>0.47</td>\n",
              "      <td>1.17</td>\n",
              "      <td>-1.01</td>\n",
              "      <td>-0.32</td>\n",
              "    </tr>\n",
              "    <tr>\n",
              "      <th>...</th>\n",
              "      <td>...</td>\n",
              "      <td>...</td>\n",
              "      <td>...</td>\n",
              "      <td>...</td>\n",
              "      <td>...</td>\n",
              "      <td>...</td>\n",
              "      <td>...</td>\n",
              "      <td>...</td>\n",
              "      <td>...</td>\n",
              "      <td>...</td>\n",
              "      <td>...</td>\n",
              "      <td>...</td>\n",
              "      <td>...</td>\n",
              "    </tr>\n",
              "    <tr>\n",
              "      <th>110723</th>\n",
              "      <td>0.007701</td>\n",
              "      <td>0.007717</td>\n",
              "      <td>0.007783</td>\n",
              "      <td>0.007812</td>\n",
              "      <td>0.968987</td>\n",
              "      <td>1</td>\n",
              "      <td>26</td>\n",
              "      <td>NaN</td>\n",
              "      <td>1.04</td>\n",
              "      <td>0.69</td>\n",
              "      <td>0.54</td>\n",
              "      <td>-1.51</td>\n",
              "      <td>0.56</td>\n",
              "    </tr>\n",
              "    <tr>\n",
              "      <th>110724</th>\n",
              "      <td>0.007694</td>\n",
              "      <td>0.007733</td>\n",
              "      <td>0.007784</td>\n",
              "      <td>0.007932</td>\n",
              "      <td>0.968857</td>\n",
              "      <td>1</td>\n",
              "      <td>22</td>\n",
              "      <td>NaN</td>\n",
              "      <td>-0.54</td>\n",
              "      <td>-1.38</td>\n",
              "      <td>-0.58</td>\n",
              "      <td>-2.17</td>\n",
              "      <td>0.36</td>\n",
              "    </tr>\n",
              "    <tr>\n",
              "      <th>110725</th>\n",
              "      <td>0.018203</td>\n",
              "      <td>0.018186</td>\n",
              "      <td>0.723865</td>\n",
              "      <td>0.018280</td>\n",
              "      <td>0.221467</td>\n",
              "      <td>0</td>\n",
              "      <td>33</td>\n",
              "      <td>NaN</td>\n",
              "      <td>-0.72</td>\n",
              "      <td>0.84</td>\n",
              "      <td>1.48</td>\n",
              "      <td>-0.84</td>\n",
              "      <td>0.11</td>\n",
              "    </tr>\n",
              "    <tr>\n",
              "      <th>110726</th>\n",
              "      <td>0.003942</td>\n",
              "      <td>0.003930</td>\n",
              "      <td>0.004032</td>\n",
              "      <td>0.003991</td>\n",
              "      <td>0.984105</td>\n",
              "      <td>1</td>\n",
              "      <td>22</td>\n",
              "      <td>NaN</td>\n",
              "      <td>1.16</td>\n",
              "      <td>0.32</td>\n",
              "      <td>-0.71</td>\n",
              "      <td>0.41</td>\n",
              "      <td>0.50</td>\n",
              "    </tr>\n",
              "    <tr>\n",
              "      <th>110727</th>\n",
              "      <td>0.011786</td>\n",
              "      <td>0.011781</td>\n",
              "      <td>0.294271</td>\n",
              "      <td>0.011935</td>\n",
              "      <td>0.670226</td>\n",
              "      <td>0</td>\n",
              "      <td>22</td>\n",
              "      <td>NaN</td>\n",
              "      <td>-0.04</td>\n",
              "      <td>0.02</td>\n",
              "      <td>0.48</td>\n",
              "      <td>-1.51</td>\n",
              "      <td>0.86</td>\n",
              "    </tr>\n",
              "  </tbody>\n",
              "</table>\n",
              "<p>110728 rows × 13 columns</p>\n",
              "</div>"
            ],
            "text/plain": [
              "               1         2         3         4  ...   con   ext   agr   neu\n",
              "0       0.022347  0.022236  0.022736  0.022324  ...  1.65  1.17 -1.76  0.61\n",
              "1       0.022225  0.022228  0.022296  0.022242  ...  0.17 -0.14  1.49  0.30\n",
              "2       0.003279  0.003280  0.003297  0.003283  ...  1.28  0.86  1.07  0.99\n",
              "3       0.040001  0.040071  0.040025  0.040089  ... -1.01 -0.33 -0.68  0.92\n",
              "4       0.040004  0.040024  0.040147  0.040108  ...  0.47  1.17 -1.01 -0.32\n",
              "...          ...       ...       ...       ...  ...   ...   ...   ...   ...\n",
              "110723  0.007701  0.007717  0.007783  0.007812  ...  0.69  0.54 -1.51  0.56\n",
              "110724  0.007694  0.007733  0.007784  0.007932  ... -1.38 -0.58 -2.17  0.36\n",
              "110725  0.018203  0.018186  0.723865  0.018280  ...  0.84  1.48 -0.84  0.11\n",
              "110726  0.003942  0.003930  0.004032  0.003991  ...  0.32 -0.71  0.41  0.50\n",
              "110727  0.011786  0.011781  0.294271  0.011935  ...  0.02  0.48 -1.51  0.86\n",
              "\n",
              "[110728 rows x 13 columns]"
            ]
          },
          "metadata": {
            "tags": []
          },
          "execution_count": 49
        }
      ]
    },
    {
      "cell_type": "code",
      "metadata": {
        "id": "0DBWLMv9Yvx1",
        "colab_type": "code",
        "colab": {}
      },
      "source": [
        "corr_LDA= LDA_all_features.corr(method='pearson')"
      ],
      "execution_count": 0,
      "outputs": []
    },
    {
      "cell_type": "code",
      "metadata": {
        "id": "oz9TRKXvZIPq",
        "colab_type": "code",
        "colab": {}
      },
      "source": [
        "corr_LDA = corr_LDA.drop(['gender','age','political','ope','con','ext','agr','neu'], axis=1)"
      ],
      "execution_count": 0,
      "outputs": []
    },
    {
      "cell_type": "code",
      "metadata": {
        "id": "XHle2VLTZYeP",
        "colab_type": "code",
        "outputId": "accc8a8d-5691-46b1-c3c9-1a0c9180abd9",
        "colab": {
          "base_uri": "https://localhost:8080/",
          "height": 297
        }
      },
      "source": [
        "corr_LDA =  corr_LDA.drop(cols, axis=0)\n",
        "corr_LDA"
      ],
      "execution_count": 0,
      "outputs": [
        {
          "output_type": "execute_result",
          "data": {
            "text/html": [
              "<div>\n",
              "<style scoped>\n",
              "    .dataframe tbody tr th:only-of-type {\n",
              "        vertical-align: middle;\n",
              "    }\n",
              "\n",
              "    .dataframe tbody tr th {\n",
              "        vertical-align: top;\n",
              "    }\n",
              "\n",
              "    .dataframe thead th {\n",
              "        text-align: right;\n",
              "    }\n",
              "</style>\n",
              "<table border=\"1\" class=\"dataframe\">\n",
              "  <thead>\n",
              "    <tr style=\"text-align: right;\">\n",
              "      <th></th>\n",
              "      <th>1</th>\n",
              "      <th>2</th>\n",
              "      <th>3</th>\n",
              "      <th>4</th>\n",
              "      <th>5</th>\n",
              "    </tr>\n",
              "  </thead>\n",
              "  <tbody>\n",
              "    <tr>\n",
              "      <th>gender</th>\n",
              "      <td>-0.008528</td>\n",
              "      <td>0.041261</td>\n",
              "      <td>-0.066784</td>\n",
              "      <td>0.031667</td>\n",
              "      <td>0.006269</td>\n",
              "    </tr>\n",
              "    <tr>\n",
              "      <th>age</th>\n",
              "      <td>0.046234</td>\n",
              "      <td>-0.123759</td>\n",
              "      <td>0.061014</td>\n",
              "      <td>-0.067734</td>\n",
              "      <td>0.044024</td>\n",
              "    </tr>\n",
              "    <tr>\n",
              "      <th>political</th>\n",
              "      <td>0.011913</td>\n",
              "      <td>0.003494</td>\n",
              "      <td>-0.044363</td>\n",
              "      <td>0.032235</td>\n",
              "      <td>0.006320</td>\n",
              "    </tr>\n",
              "    <tr>\n",
              "      <th>ope</th>\n",
              "      <td>-0.016768</td>\n",
              "      <td>-0.020529</td>\n",
              "      <td>0.090094</td>\n",
              "      <td>-0.043508</td>\n",
              "      <td>-0.015826</td>\n",
              "    </tr>\n",
              "    <tr>\n",
              "      <th>con</th>\n",
              "      <td>0.001183</td>\n",
              "      <td>-0.050839</td>\n",
              "      <td>-0.020953</td>\n",
              "      <td>-0.000066</td>\n",
              "      <td>0.033621</td>\n",
              "    </tr>\n",
              "    <tr>\n",
              "      <th>ext</th>\n",
              "      <td>0.013527</td>\n",
              "      <td>0.014996</td>\n",
              "      <td>-0.009025</td>\n",
              "      <td>0.023192</td>\n",
              "      <td>-0.017892</td>\n",
              "    </tr>\n",
              "    <tr>\n",
              "      <th>agr</th>\n",
              "      <td>-0.002849</td>\n",
              "      <td>-0.018844</td>\n",
              "      <td>-0.008942</td>\n",
              "      <td>0.009149</td>\n",
              "      <td>0.008503</td>\n",
              "    </tr>\n",
              "    <tr>\n",
              "      <th>neu</th>\n",
              "      <td>-0.015854</td>\n",
              "      <td>0.026891</td>\n",
              "      <td>-0.020140</td>\n",
              "      <td>-0.002608</td>\n",
              "      <td>0.006305</td>\n",
              "    </tr>\n",
              "  </tbody>\n",
              "</table>\n",
              "</div>"
            ],
            "text/plain": [
              "                  1         2         3         4         5\n",
              "gender    -0.008528  0.041261 -0.066784  0.031667  0.006269\n",
              "age        0.046234 -0.123759  0.061014 -0.067734  0.044024\n",
              "political  0.011913  0.003494 -0.044363  0.032235  0.006320\n",
              "ope       -0.016768 -0.020529  0.090094 -0.043508 -0.015826\n",
              "con        0.001183 -0.050839 -0.020953 -0.000066  0.033621\n",
              "ext        0.013527  0.014996 -0.009025  0.023192 -0.017892\n",
              "agr       -0.002849 -0.018844 -0.008942  0.009149  0.008503\n",
              "neu       -0.015854  0.026891 -0.020140 -0.002608  0.006305"
            ]
          },
          "metadata": {
            "tags": []
          },
          "execution_count": 52
        }
      ]
    },
    {
      "cell_type": "code",
      "metadata": {
        "id": "CfkebfHUZozG",
        "colab_type": "code",
        "outputId": "daf4b104-4804-4504-934d-df1b2fd4b94e",
        "colab": {
          "base_uri": "https://localhost:8080/",
          "height": 607
        }
      },
      "source": [
        "f,ax=plt.pyplot.subplots(figsize = (10,10))\n",
        "sns.heatmap(corr_LDA,annot= True,linewidths=0.5,ax=ax)\n",
        "plt.pyplot.xticks(rotation=0)\n",
        "plt.pyplot.yticks(rotation=0)\n",
        "plt.pyplot.title('Correlation Map (LDA Clusters)')\n",
        "plt.pyplot.show()"
      ],
      "execution_count": 0,
      "outputs": [
        {
          "output_type": "display_data",
          "data": {
            "image/png": "[encoded data removed]",
            "text/plain": [
              "<Figure size 720x720 with 2 Axes>"
            ]
          },
          "metadata": {
            "tags": []
          }
        }
      ]
    },
    {
      "cell_type": "code",
      "metadata": {
        "id": "9_M9rVW9cBqf",
        "colab_type": "code",
        "colab": {}
      },
      "source": [
        "def print_top_words(model, feature_names, n_top_words):\n",
        "    for topic_idx, topic in enumerate(model.components_):\n",
        "        print(\"Topic #\", topic_idx+1,':')\n",
        "        print(\"\\n\".join([feature_names[i]\n",
        "                        for i in topic.argsort()[:-n_top_words - 1:-1]]))\n",
        "        print('\\n')\n",
        "    print()"
      ],
      "execution_count": 0,
      "outputs": []
    },
    {
      "cell_type": "code",
      "metadata": {
        "id": "1dvt2-V8cNU9",
        "colab_type": "code",
        "outputId": "b82cdba3-3f36-40b7-d5e0-de3f0358da68",
        "colab": {
          "base_uri": "https://localhost:8080/",
          "height": 1000
        }
      },
      "source": [
        "like_descriptions = likes.name.values\n",
        "print_top_words(LDA, like_descriptions, 15)"
      ],
      "execution_count": 0,
      "outputs": [
        {
          "output_type": "stream",
          "text": [
            "Topic # 1 :\n",
            "Sephora France\n",
            "DYNAMO FORMATION INTERNATIONAL\n",
            "GOD WELL\n",
            "Emperor\n",
            "Immortal\n",
            "Morbid Angel\n",
            "Carcass\n",
            "NPR\n",
            "Cryptopsy\n",
            "Gorgoroth\n",
            "Chase Community Giving\n",
            "Dark Funeral\n",
            "Wintersun\n",
            "Enslaved\n",
            "Sodom\n",
            "\n",
            "\n",
            "Topic # 2 :\n",
            "Telling inanimate objects to STAY when they look like they're going to fall\n",
            "My level of maturity changes depending on who im with.\n",
            "Ok, If we get caught here's the story...\n",
            "I feel stupid when I say what? a thousand times because I can't hear\n",
            "I hate when my parents rush me to get ready and then when I am, they're not\n",
            "i finally stop laughing... look back over at you and start all over again\n",
            "Don't EVER break a pinky promise. That stuff is LEGIT.\n",
            "greatest game ever: DON'T LET THE BALLOON TOUCH THE FLOOR\n",
            "Ohh thats a tan?.. I thought you got attacked by a mob of orange markers..\n",
            "If you remember the L'Orealkids FISH SHAPED SHAMPOO BOTTLE!\n",
            "I hate it when i'm taking a drink and all the ice attacks my face\n",
            "Open fridge, nothing. Freezer? nothing. Might as well try the fridge again.\n",
            "Comebacks that make the whole room go OOOOOHHHHHH\n",
            "I'd rather do nothing at your house than at mine\n",
            "My door was closed when you came in, dont walk off and leave it open.\n",
            "\n",
            "\n",
            "Topic # 3 :\n",
            "The Beatles\n",
            "Music\n",
            "Barack Obama\n",
            "George Takei\n",
            "The Colbert Report\n",
            "The Daily Show\n",
            "Amazon.com\n",
            "The Onion\n",
            "Queen\n",
            "NPR\n",
            "I fucking love science\n",
            "Harry Potter\n",
            "The Lord of the Rings Trilogy (Official Page)\n",
            "Futurama\n",
            "The Walking Dead\n",
            "\n",
            "\n",
            "Topic # 4 :\n",
            "Music\n",
            "YouTube\n",
            "Skittles\n",
            "Eminem\n",
            "Oreo\n",
            "Adam Sandler\n",
            "Family Guy\n",
            "Facebook\n",
            "Starbucks\n",
            "Starburst\n",
            "Reese's\n",
            "Dr Pepper\n",
            "Lady Gaga\n",
            "Disney\n",
            "House\n",
            "\n",
            "\n",
            "Topic # 5 :\n",
            "Family Guy\n",
            "House\n",
            "Music\n",
            "Reading\n",
            "reading\n",
            "music\n",
            "The Office\n",
            "Scrubs\n",
            "South Park\n",
            "Harry Potter\n",
            "The Beatles\n",
            "Linkin Park\n",
            "Fight Club\n",
            "Futurama\n",
            "CSI\n",
            "\n",
            "\n",
            "\n"
          ],
          "name": "stdout"
        }
      ]
    },
    {
      "cell_type": "markdown",
      "metadata": {
        "id": "bmnbDbA4cbtr",
        "colab_type": "text"
      },
      "source": [
        "Correlation Analysis of SVD Dimensions (k=5)"
      ]
    },
    {
      "cell_type": "code",
      "metadata": {
        "id": "Qi1-xgK2cdwp",
        "colab_type": "code",
        "colab": {}
      },
      "source": [
        "user_wo_id = users.drop(['userid'], axis=1)"
      ],
      "execution_count": 0,
      "outputs": []
    },
    {
      "cell_type": "code",
      "metadata": {
        "id": "NdMqII7zdk1-",
        "colab_type": "code",
        "colab": {}
      },
      "source": [
        "import scipy.stats\n",
        "\n",
        "cols = []\n",
        "for i in range(1,len(u5[0])+1):\n",
        "  cols.append(str(i))\n",
        "\n",
        "M_SVD_df = pd.DataFrame(np.array(u5), columns=cols)\n",
        "SVD_all_features = pd.concat([M_SVD_df, user_wo_id], axis=1)"
      ],
      "execution_count": 0,
      "outputs": []
    },
    {
      "cell_type": "code",
      "metadata": {
        "id": "ElOc9Plygj08",
        "colab_type": "code",
        "outputId": "62e6f4f5-ca07-48f2-e030-416ff9790c2e",
        "colab": {
          "base_uri": "https://localhost:8080/",
          "height": 419
        }
      },
      "source": [
        "SVD_all_features"
      ],
      "execution_count": 0,
      "outputs": [
        {
          "output_type": "execute_result",
          "data": {
            "text/html": [
              "<div>\n",
              "<style scoped>\n",
              "    .dataframe tbody tr th:only-of-type {\n",
              "        vertical-align: middle;\n",
              "    }\n",
              "\n",
              "    .dataframe tbody tr th {\n",
              "        vertical-align: top;\n",
              "    }\n",
              "\n",
              "    .dataframe thead th {\n",
              "        text-align: right;\n",
              "    }\n",
              "</style>\n",
              "<table border=\"1\" class=\"dataframe\">\n",
              "  <thead>\n",
              "    <tr style=\"text-align: right;\">\n",
              "      <th></th>\n",
              "      <th>1</th>\n",
              "      <th>2</th>\n",
              "      <th>3</th>\n",
              "      <th>4</th>\n",
              "      <th>5</th>\n",
              "      <th>gender</th>\n",
              "      <th>age</th>\n",
              "      <th>political</th>\n",
              "      <th>ope</th>\n",
              "      <th>con</th>\n",
              "      <th>ext</th>\n",
              "      <th>agr</th>\n",
              "      <th>neu</th>\n",
              "    </tr>\n",
              "  </thead>\n",
              "  <tbody>\n",
              "    <tr>\n",
              "      <th>0</th>\n",
              "      <td>0.000057</td>\n",
              "      <td>0.000328</td>\n",
              "      <td>-0.000252</td>\n",
              "      <td>-0.000127</td>\n",
              "      <td>-0.000043</td>\n",
              "      <td>0</td>\n",
              "      <td>33</td>\n",
              "      <td>0.0</td>\n",
              "      <td>1.26</td>\n",
              "      <td>1.65</td>\n",
              "      <td>1.17</td>\n",
              "      <td>-1.76</td>\n",
              "      <td>0.61</td>\n",
              "    </tr>\n",
              "    <tr>\n",
              "      <th>1</th>\n",
              "      <td>-0.000262</td>\n",
              "      <td>-0.000064</td>\n",
              "      <td>-0.000501</td>\n",
              "      <td>-0.000159</td>\n",
              "      <td>-0.000048</td>\n",
              "      <td>1</td>\n",
              "      <td>35</td>\n",
              "      <td>0.0</td>\n",
              "      <td>1.07</td>\n",
              "      <td>0.17</td>\n",
              "      <td>-0.14</td>\n",
              "      <td>1.49</td>\n",
              "      <td>0.30</td>\n",
              "    </tr>\n",
              "    <tr>\n",
              "      <th>2</th>\n",
              "      <td>-0.000460</td>\n",
              "      <td>0.001050</td>\n",
              "      <td>-0.002832</td>\n",
              "      <td>-0.000852</td>\n",
              "      <td>-0.000248</td>\n",
              "      <td>1</td>\n",
              "      <td>36</td>\n",
              "      <td>0.0</td>\n",
              "      <td>0.89</td>\n",
              "      <td>1.28</td>\n",
              "      <td>0.86</td>\n",
              "      <td>1.07</td>\n",
              "      <td>0.99</td>\n",
              "    </tr>\n",
              "    <tr>\n",
              "      <th>3</th>\n",
              "      <td>-0.000022</td>\n",
              "      <td>-0.000025</td>\n",
              "      <td>-0.000044</td>\n",
              "      <td>-0.000013</td>\n",
              "      <td>-0.000005</td>\n",
              "      <td>0</td>\n",
              "      <td>39</td>\n",
              "      <td>NaN</td>\n",
              "      <td>0.33</td>\n",
              "      <td>-1.01</td>\n",
              "      <td>-0.33</td>\n",
              "      <td>-0.68</td>\n",
              "      <td>0.92</td>\n",
              "    </tr>\n",
              "    <tr>\n",
              "      <th>4</th>\n",
              "      <td>0.000232</td>\n",
              "      <td>-0.000513</td>\n",
              "      <td>-0.000787</td>\n",
              "      <td>-0.000359</td>\n",
              "      <td>-0.000137</td>\n",
              "      <td>0</td>\n",
              "      <td>31</td>\n",
              "      <td>NaN</td>\n",
              "      <td>0.15</td>\n",
              "      <td>0.47</td>\n",
              "      <td>1.17</td>\n",
              "      <td>-1.01</td>\n",
              "      <td>-0.32</td>\n",
              "    </tr>\n",
              "    <tr>\n",
              "      <th>...</th>\n",
              "      <td>...</td>\n",
              "      <td>...</td>\n",
              "      <td>...</td>\n",
              "      <td>...</td>\n",
              "      <td>...</td>\n",
              "      <td>...</td>\n",
              "      <td>...</td>\n",
              "      <td>...</td>\n",
              "      <td>...</td>\n",
              "      <td>...</td>\n",
              "      <td>...</td>\n",
              "      <td>...</td>\n",
              "      <td>...</td>\n",
              "    </tr>\n",
              "    <tr>\n",
              "      <th>110723</th>\n",
              "      <td>0.000788</td>\n",
              "      <td>-0.001120</td>\n",
              "      <td>-0.002146</td>\n",
              "      <td>-0.001131</td>\n",
              "      <td>-0.000458</td>\n",
              "      <td>1</td>\n",
              "      <td>26</td>\n",
              "      <td>NaN</td>\n",
              "      <td>1.04</td>\n",
              "      <td>0.69</td>\n",
              "      <td>0.54</td>\n",
              "      <td>-1.51</td>\n",
              "      <td>0.56</td>\n",
              "    </tr>\n",
              "    <tr>\n",
              "      <th>110724</th>\n",
              "      <td>-0.000574</td>\n",
              "      <td>-0.001407</td>\n",
              "      <td>-0.000764</td>\n",
              "      <td>-0.000699</td>\n",
              "      <td>-0.000382</td>\n",
              "      <td>1</td>\n",
              "      <td>22</td>\n",
              "      <td>NaN</td>\n",
              "      <td>-0.54</td>\n",
              "      <td>-1.38</td>\n",
              "      <td>-0.58</td>\n",
              "      <td>-2.17</td>\n",
              "      <td>0.36</td>\n",
              "    </tr>\n",
              "    <tr>\n",
              "      <th>110725</th>\n",
              "      <td>0.000104</td>\n",
              "      <td>0.000427</td>\n",
              "      <td>0.000044</td>\n",
              "      <td>-0.000143</td>\n",
              "      <td>-0.000042</td>\n",
              "      <td>0</td>\n",
              "      <td>33</td>\n",
              "      <td>NaN</td>\n",
              "      <td>-0.72</td>\n",
              "      <td>0.84</td>\n",
              "      <td>1.48</td>\n",
              "      <td>-0.84</td>\n",
              "      <td>0.11</td>\n",
              "    </tr>\n",
              "    <tr>\n",
              "      <th>110726</th>\n",
              "      <td>0.000519</td>\n",
              "      <td>-0.002008</td>\n",
              "      <td>-0.003311</td>\n",
              "      <td>-0.002030</td>\n",
              "      <td>-0.000804</td>\n",
              "      <td>1</td>\n",
              "      <td>22</td>\n",
              "      <td>NaN</td>\n",
              "      <td>1.16</td>\n",
              "      <td>0.32</td>\n",
              "      <td>-0.71</td>\n",
              "      <td>0.41</td>\n",
              "      <td>0.50</td>\n",
              "    </tr>\n",
              "    <tr>\n",
              "      <th>110727</th>\n",
              "      <td>0.000318</td>\n",
              "      <td>-0.000434</td>\n",
              "      <td>-0.000957</td>\n",
              "      <td>-0.000468</td>\n",
              "      <td>-0.000170</td>\n",
              "      <td>0</td>\n",
              "      <td>22</td>\n",
              "      <td>NaN</td>\n",
              "      <td>-0.04</td>\n",
              "      <td>0.02</td>\n",
              "      <td>0.48</td>\n",
              "      <td>-1.51</td>\n",
              "      <td>0.86</td>\n",
              "    </tr>\n",
              "  </tbody>\n",
              "</table>\n",
              "<p>110728 rows × 13 columns</p>\n",
              "</div>"
            ],
            "text/plain": [
              "               1         2         3         4  ...   con   ext   agr   neu\n",
              "0       0.000057  0.000328 -0.000252 -0.000127  ...  1.65  1.17 -1.76  0.61\n",
              "1      -0.000262 -0.000064 -0.000501 -0.000159  ...  0.17 -0.14  1.49  0.30\n",
              "2      -0.000460  0.001050 -0.002832 -0.000852  ...  1.28  0.86  1.07  0.99\n",
              "3      -0.000022 -0.000025 -0.000044 -0.000013  ... -1.01 -0.33 -0.68  0.92\n",
              "4       0.000232 -0.000513 -0.000787 -0.000359  ...  0.47  1.17 -1.01 -0.32\n",
              "...          ...       ...       ...       ...  ...   ...   ...   ...   ...\n",
              "110723  0.000788 -0.001120 -0.002146 -0.001131  ...  0.69  0.54 -1.51  0.56\n",
              "110724 -0.000574 -0.001407 -0.000764 -0.000699  ... -1.38 -0.58 -2.17  0.36\n",
              "110725  0.000104  0.000427  0.000044 -0.000143  ...  0.84  1.48 -0.84  0.11\n",
              "110726  0.000519 -0.002008 -0.003311 -0.002030  ...  0.32 -0.71  0.41  0.50\n",
              "110727  0.000318 -0.000434 -0.000957 -0.000468  ...  0.02  0.48 -1.51  0.86\n",
              "\n",
              "[110728 rows x 13 columns]"
            ]
          },
          "metadata": {
            "tags": []
          },
          "execution_count": 69
        }
      ]
    },
    {
      "cell_type": "code",
      "metadata": {
        "id": "bqydK-07gye4",
        "colab_type": "code",
        "colab": {}
      },
      "source": [
        "corr_SVD= SVD_all_features.corr(method='pearson')"
      ],
      "execution_count": 0,
      "outputs": []
    },
    {
      "cell_type": "code",
      "metadata": {
        "id": "Mf331LKwhEyE",
        "colab_type": "code",
        "colab": {}
      },
      "source": [
        "corr_SVD= corr_SVD.drop(['gender','age','political','ope','con','ext','agr','neu'], axis=1)"
      ],
      "execution_count": 0,
      "outputs": []
    },
    {
      "cell_type": "code",
      "metadata": {
        "id": "B7nBErwkhL-Z",
        "colab_type": "code",
        "outputId": "5811dfb6-10cb-4c5d-8860-81d55850c6a8",
        "colab": {
          "base_uri": "https://localhost:8080/",
          "height": 297
        }
      },
      "source": [
        "corr_SVD =  corr_SVD.drop(cols, axis=0)\n",
        "corr_SVD"
      ],
      "execution_count": 0,
      "outputs": [
        {
          "output_type": "execute_result",
          "data": {
            "text/html": [
              "<div>\n",
              "<style scoped>\n",
              "    .dataframe tbody tr th:only-of-type {\n",
              "        vertical-align: middle;\n",
              "    }\n",
              "\n",
              "    .dataframe tbody tr th {\n",
              "        vertical-align: top;\n",
              "    }\n",
              "\n",
              "    .dataframe thead th {\n",
              "        text-align: right;\n",
              "    }\n",
              "</style>\n",
              "<table border=\"1\" class=\"dataframe\">\n",
              "  <thead>\n",
              "    <tr style=\"text-align: right;\">\n",
              "      <th></th>\n",
              "      <th>1</th>\n",
              "      <th>2</th>\n",
              "      <th>3</th>\n",
              "      <th>4</th>\n",
              "      <th>5</th>\n",
              "    </tr>\n",
              "  </thead>\n",
              "  <tbody>\n",
              "    <tr>\n",
              "      <th>gender</th>\n",
              "      <td>-0.069595</td>\n",
              "      <td>-0.076107</td>\n",
              "      <td>0.062420</td>\n",
              "      <td>0.041963</td>\n",
              "      <td>-0.048975</td>\n",
              "    </tr>\n",
              "    <tr>\n",
              "      <th>age</th>\n",
              "      <td>0.039395</td>\n",
              "      <td>0.090516</td>\n",
              "      <td>0.019788</td>\n",
              "      <td>0.012359</td>\n",
              "      <td>0.137307</td>\n",
              "    </tr>\n",
              "    <tr>\n",
              "      <th>political</th>\n",
              "      <td>-0.065637</td>\n",
              "      <td>-0.071394</td>\n",
              "      <td>0.077354</td>\n",
              "      <td>0.059547</td>\n",
              "      <td>0.021459</td>\n",
              "    </tr>\n",
              "    <tr>\n",
              "      <th>ope</th>\n",
              "      <td>0.019188</td>\n",
              "      <td>0.100350</td>\n",
              "      <td>-0.109283</td>\n",
              "      <td>-0.070920</td>\n",
              "      <td>-0.025688</td>\n",
              "    </tr>\n",
              "    <tr>\n",
              "      <th>con</th>\n",
              "      <td>-0.009295</td>\n",
              "      <td>-0.025243</td>\n",
              "      <td>0.039791</td>\n",
              "      <td>0.007216</td>\n",
              "      <td>0.061387</td>\n",
              "    </tr>\n",
              "    <tr>\n",
              "      <th>ext</th>\n",
              "      <td>0.017545</td>\n",
              "      <td>-0.015223</td>\n",
              "      <td>0.063140</td>\n",
              "      <td>0.001169</td>\n",
              "      <td>-0.012901</td>\n",
              "    </tr>\n",
              "    <tr>\n",
              "      <th>agr</th>\n",
              "      <td>-0.037485</td>\n",
              "      <td>-0.008148</td>\n",
              "      <td>0.033426</td>\n",
              "      <td>-0.002328</td>\n",
              "      <td>0.018106</td>\n",
              "    </tr>\n",
              "    <tr>\n",
              "      <th>neu</th>\n",
              "      <td>-0.013566</td>\n",
              "      <td>-0.020761</td>\n",
              "      <td>-0.035746</td>\n",
              "      <td>-0.001023</td>\n",
              "      <td>-0.050636</td>\n",
              "    </tr>\n",
              "  </tbody>\n",
              "</table>\n",
              "</div>"
            ],
            "text/plain": [
              "                  1         2         3         4         5\n",
              "gender    -0.069595 -0.076107  0.062420  0.041963 -0.048975\n",
              "age        0.039395  0.090516  0.019788  0.012359  0.137307\n",
              "political -0.065637 -0.071394  0.077354  0.059547  0.021459\n",
              "ope        0.019188  0.100350 -0.109283 -0.070920 -0.025688\n",
              "con       -0.009295 -0.025243  0.039791  0.007216  0.061387\n",
              "ext        0.017545 -0.015223  0.063140  0.001169 -0.012901\n",
              "agr       -0.037485 -0.008148  0.033426 -0.002328  0.018106\n",
              "neu       -0.013566 -0.020761 -0.035746 -0.001023 -0.050636"
            ]
          },
          "metadata": {
            "tags": []
          },
          "execution_count": 72
        }
      ]
    },
    {
      "cell_type": "code",
      "metadata": {
        "id": "QeKsC0kjhZCL",
        "colab_type": "code",
        "outputId": "8feb13bd-d978-4715-f48b-51cb03f2db26",
        "colab": {
          "base_uri": "https://localhost:8080/",
          "height": 607
        }
      },
      "source": [
        "f,ax=plt.pyplot.subplots(figsize = (10,10))\n",
        "sns.heatmap(corr_SVD,annot= True,linewidths=0.5,ax=ax)\n",
        "plt.pyplot.xticks(rotation=0)\n",
        "plt.pyplot.yticks(rotation=0)\n",
        "plt.pyplot.title('Correlation Map (SVD Dimensions)')\n",
        "#plt.pyplot.savefig('/content/drive/My Drive/Colab Notebooks/IPADS/project9/plots/corr_svd5.png',dpi=100)\n",
        "plt.pyplot.show()\n"
      ],
      "execution_count": 0,
      "outputs": [
        {
          "output_type": "display_data",
          "data": {
            "image/png": "[encoded data removed]",
            "text/plain": [
              "<Figure size 720x720 with 2 Axes>"
            ]
          },
          "metadata": {
            "tags": []
          }
        }
      ]
    },
    {
      "cell_type": "markdown",
      "metadata": {
        "id": "7PRrZVuhhqIT",
        "colab_type": "text"
      },
      "source": [
        "Top 10 Topics of SVD Dimensions"
      ]
    },
    {
      "cell_type": "code",
      "metadata": {
        "id": "R8QTPu1dhsf0",
        "colab_type": "code",
        "outputId": "ab13c8dc-caaf-4afb-92af-61073f87b063",
        "colab": {
          "base_uri": "https://localhost:8080/",
          "height": 187
        }
      },
      "source": [
        "v5"
      ],
      "execution_count": 0,
      "outputs": [
        {
          "output_type": "execute_result",
          "data": {
            "text/plain": [
              "array([[ 1.08196012e-05,  2.86140965e-05, -1.30554449e-04, ...,\n",
              "         8.03171577e-06, -3.28817592e-05,  8.89121815e-05],\n",
              "       [ 1.88410749e-05,  1.58370897e-04, -1.87679839e-04, ...,\n",
              "         3.19479287e-05, -1.23003804e-04,  1.85734061e-04],\n",
              "       [-5.94199316e-06,  3.20972155e-05,  1.87056579e-04, ...,\n",
              "        -2.62406651e-05,  1.11777960e-04, -1.10695678e-04],\n",
              "       [-3.31324845e-06, -2.84993312e-05, -9.88125228e-05, ...,\n",
              "        -9.07898367e-06, -4.54560846e-05, -7.49148561e-05],\n",
              "       [-7.58313008e-07, -8.29687592e-06, -7.62208799e-05, ...,\n",
              "        -7.90739137e-06, -3.39289844e-05, -1.94456427e-05]])"
            ]
          },
          "metadata": {
            "tags": []
          },
          "execution_count": 74
        }
      ]
    },
    {
      "cell_type": "code",
      "metadata": {
        "id": "zgjpst18h1G_",
        "colab_type": "code",
        "colab": {}
      },
      "source": [
        "def print_top_words_SVD(model, feature_names, n_top_words):\n",
        "    for topic_idx, topic in enumerate(v5):\n",
        "        print(\"Topic #\", topic_idx+1,':')\n",
        "        print(\"\\n\".join([feature_names[i]\n",
        "                        for i in topic.argsort()[:-n_top_words - 1:-1]]))\n",
        "        print('\\n')\n",
        "    print()"
      ],
      "execution_count": 0,
      "outputs": []
    },
    {
      "cell_type": "code",
      "metadata": {
        "id": "3riUHcbxjypX",
        "colab_type": "code",
        "outputId": "02c84c67-97d6-4819-a260-718d3b08e080",
        "colab": {
          "base_uri": "https://localhost:8080/",
          "height": 1000
        }
      },
      "source": [
        "like_descriptions = likes.name.values\n",
        "print_top_words_SVD(LDA, like_descriptions, 15)"
      ],
      "execution_count": 0,
      "outputs": [
        {
          "output_type": "stream",
          "text": [
            "Topic # 1 :\n",
            "South Park\n",
            "Family Guy\n",
            "Worst. Idea. Ever. [pause] Let's do it.\n",
            "Truth is, everybody is going to hurt you; you just gotta find the ones worth suffering for. -Bob Marley\n",
            "Who are you talking to?...... TELL THEM I SAY HI!!!!!!\n",
            "The Boondocks\n",
            "Bob Marley\n",
            "Pink Floyd\n",
            "Lil Wayne\n",
            "Tosh.0\n",
            "mom, i could be dying and you're not answering the phone\n",
            "The Hangover\n",
            "Mom I love you... but u be trippin sometimes\n",
            "Dear sleep, I know we had problems when I was younger, but now I love you\n",
            "When you're so good at sarcasm no one can tell if you are serious or not\n",
            "\n",
            "\n",
            "Topic # 2 :\n",
            "George Takei\n",
            "The Onion\n",
            "The Daily Show\n",
            "The Colbert Report\n",
            "NPR\n",
            "I fucking love science\n",
            "The Beatles\n",
            "Amazon.com\n",
            "Queen\n",
            "Radiohead\n",
            "Bill Nye The Science Guy - Official Fan Page\n",
            "Cracked.com\n",
            "Star Wars\n",
            "The Walking Dead\n",
            "The Lord of the Rings Trilogy (Official Page)\n",
            "\n",
            "\n",
            "Topic # 3 :\n",
            "YouTube\n",
            "Oreo\n",
            "Facebook\n",
            "Skittles\n",
            "Starburst\n",
            "Reese's\n",
            "Starbucks\n",
            "Adam Sandler\n",
            "Subway\n",
            "DORY\n",
            "iTunes\n",
            "Will Smith\n",
            "Coca-Cola\n",
            "Finding Nemo\n",
            "Taco Bell\n",
            "\n",
            "\n",
            "Topic # 4 :\n",
            "When a teacher disses a student and the whole class goes OOOOOOHHHHHH!!!!\n",
            "I always wonder what I look like from someone elses eyes.\n",
            "Its funny how fast you can wake up when you realize you've overslept..\n",
            "Can you shut my door please? sure! *leaves door cracked* sigh...\n",
            "Its funny how sitting boy girl boy girl used to be a punishment...\n",
            "when a teacher calls on you thinking you weren't listening &you own them\n",
            "we're watching a video today YESS! Here's your question sheet UGH!\n",
            "Don't EVER break a pinky promise. That stuff is LEGIT.\n",
            "greatest game ever: DON'T LET THE BALLOON TOUCH THE FLOOR\n",
            "I hate when im yelling at someone and i mess up what im saying\n",
            "We act like its a secret drug deal when someone is just giving us gum\n",
            "When You Make No Sense At All , But Your Best Friend Completely Understands\n",
            "If you remember the L'Orealkids FISH SHAPED SHAMPOO BOTTLE!\n",
            "Teachers Who Let You: Text, Eat, Talk, and Listen To Music During Class\n",
            "When you hit your hip on a counter and you feel like you just got shot.\n",
            "\n",
            "\n",
            "Topic # 5 :\n",
            "Computer networking\n",
            "MAFA\n",
            "Boys!\n",
            "Anything really..\n",
            "SCIENCE!\n",
            "LOVE AND SEX\n",
            "Portola United Methodist Church\n",
            "The Most Distant Course\n",
            "Risk 13\n",
            "_\n",
            "I Found Him. Now I Must Kill Him., by The Polish Ambassador\n",
            "Luana Interiors\n",
            "The Heart of Whiteness\n",
            "Caspian Bistro\n",
            "Himalayan Restaurant\n",
            "\n",
            "\n",
            "\n"
          ],
          "name": "stdout"
        }
      ]
    }
  ]
}